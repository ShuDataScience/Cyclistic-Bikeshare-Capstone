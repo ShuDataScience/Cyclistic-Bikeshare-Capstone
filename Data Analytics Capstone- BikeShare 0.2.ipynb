{
 "cells": [
  {
   "cell_type": "markdown",
   "id": "c64b885a",
   "metadata": {},
   "source": [
    "# Capstone- Cyclistic Bikeshare"
   ]
  },
  {
   "cell_type": "markdown",
   "id": "31d0d73a",
   "metadata": {},
   "source": [
    "Context: \n",
    "\n",
    "Cyclistic’s finance analysts have concluded that annual members are much more profitable than casual riders. Maximizing the number of annual members will be key to future growth. \n",
    "\n",
    "The goal for the analysis is to find out the behaviour difference between the annual members and casual riders and provide recommendations for Cyclistic marketing strategies aimed at converting casual riders into annual members. More details are in the read me file. "
   ]
  },
  {
   "cell_type": "markdown",
   "id": "f79d3ba7",
   "metadata": {},
   "source": [
    "# Step 1: Data Preprocessing"
   ]
  },
  {
   "cell_type": "code",
   "execution_count": 1,
   "id": "98a9936c",
   "metadata": {},
   "outputs": [],
   "source": [
    "import pandas as pd\n",
    "import numpy as np\n",
    "import matplotlib.pyplot as plt\n",
    "import seaborn as sns\n",
    "sns.set()"
   ]
  },
  {
   "cell_type": "markdown",
   "id": "16b11b6f",
   "metadata": {},
   "source": [
    "## 1. Concate the 12 months tripdata"
   ]
  },
  {
   "cell_type": "markdown",
   "id": "548b341c",
   "metadata": {},
   "source": [
    "import the 12 months data"
   ]
  },
  {
   "cell_type": "code",
   "execution_count": 2,
   "id": "6e7a15f4",
   "metadata": {},
   "outputs": [],
   "source": [
    "raw_tripdata_1= pd.read_csv(r\"C:\\Users\\shuqi\\OneDrive\\Desktop\\Training\\Google Data Analytics training\\Case Study\\202004-202203-divvy-tripdata\\202104-divvy-tripdata.csv\")\n",
    "raw_tripdata_2= pd.read_csv(r\"C:\\Users\\shuqi\\OneDrive\\Desktop\\Training\\Google Data Analytics training\\Case Study\\202004-202203-divvy-tripdata\\202105-divvy-tripdata.csv\")\n",
    "raw_tripdata_3= pd.read_csv(r\"C:\\Users\\shuqi\\OneDrive\\Desktop\\Training\\Google Data Analytics training\\Case Study\\202004-202203-divvy-tripdata\\202106-divvy-tripdata.csv\")\n",
    "raw_tripdata_4= pd.read_csv(r\"C:\\Users\\shuqi\\OneDrive\\Desktop\\Training\\Google Data Analytics training\\Case Study\\202004-202203-divvy-tripdata\\202107-divvy-tripdata.csv\")\n",
    "raw_tripdata_5= pd.read_csv(r\"C:\\Users\\shuqi\\OneDrive\\Desktop\\Training\\Google Data Analytics training\\Case Study\\202004-202203-divvy-tripdata\\202108-divvy-tripdata.csv\")\n",
    "raw_tripdata_6= pd.read_csv(r\"C:\\Users\\shuqi\\OneDrive\\Desktop\\Training\\Google Data Analytics training\\Case Study\\202004-202203-divvy-tripdata\\202109-divvy-tripdata.csv\")\n",
    "raw_tripdata_7= pd.read_csv(r\"C:\\Users\\shuqi\\OneDrive\\Desktop\\Training\\Google Data Analytics training\\Case Study\\202004-202203-divvy-tripdata\\202110-divvy-tripdata.csv\")\n",
    "raw_tripdata_8= pd.read_csv(r\"C:\\Users\\shuqi\\OneDrive\\Desktop\\Training\\Google Data Analytics training\\Case Study\\202004-202203-divvy-tripdata\\202111-divvy-tripdata.csv\")\n",
    "raw_tripdata_9= pd.read_csv(r\"C:\\Users\\shuqi\\OneDrive\\Desktop\\Training\\Google Data Analytics training\\Case Study\\202004-202203-divvy-tripdata\\202112-divvy-tripdata.csv\")\n",
    "raw_tripdata_10= pd.read_csv(r\"C:\\Users\\shuqi\\OneDrive\\Desktop\\Training\\Google Data Analytics training\\Case Study\\202004-202203-divvy-tripdata\\202201-divvy-tripdata.csv\")\n",
    "raw_tripdata_11= pd.read_csv(r\"C:\\Users\\shuqi\\OneDrive\\Desktop\\Training\\Google Data Analytics training\\Case Study\\202004-202203-divvy-tripdata\\202202-divvy-tripdata.csv\")\n",
    "raw_tripdata_12= pd.read_csv(r\"C:\\Users\\shuqi\\OneDrive\\Desktop\\Training\\Google Data Analytics training\\Case Study\\202004-202203-divvy-tripdata\\202203-divvy-tripdata.csv\")"
   ]
  },
  {
   "cell_type": "markdown",
   "id": "b2afc16e",
   "metadata": {},
   "source": [
    "setup the table 'raw_tripdata_yearly', to include the annual bikeshare data"
   ]
  },
  {
   "cell_type": "code",
   "execution_count": 3,
   "id": "6849fc32",
   "metadata": {},
   "outputs": [],
   "source": [
    "raw_tripdata_yearly = pd.concat([raw_tripdata_1, raw_tripdata_2, raw_tripdata_3,raw_tripdata_4,raw_tripdata_5,raw_tripdata_6,raw_tripdata_7,raw_tripdata_8,raw_tripdata_9,raw_tripdata_10,raw_tripdata_11,raw_tripdata_12])"
   ]
  },
  {
   "cell_type": "markdown",
   "id": "25529902",
   "metadata": {},
   "source": [
    "make a copy of the original data, save it as 'tripdata_yearly'. Work on this dataset to keep the original data available "
   ]
  },
  {
   "cell_type": "code",
   "execution_count": 4,
   "id": "7fdb584b",
   "metadata": {},
   "outputs": [],
   "source": [
    "tripdata_yearly= raw_tripdata_yearly.copy()"
   ]
  },
  {
   "cell_type": "code",
   "execution_count": 5,
   "id": "7286e2de",
   "metadata": {},
   "outputs": [
    {
     "data": {
      "text/html": [
       "<div>\n",
       "<style scoped>\n",
       "    .dataframe tbody tr th:only-of-type {\n",
       "        vertical-align: middle;\n",
       "    }\n",
       "\n",
       "    .dataframe tbody tr th {\n",
       "        vertical-align: top;\n",
       "    }\n",
       "\n",
       "    .dataframe thead th {\n",
       "        text-align: right;\n",
       "    }\n",
       "</style>\n",
       "<table border=\"1\" class=\"dataframe\">\n",
       "  <thead>\n",
       "    <tr style=\"text-align: right;\">\n",
       "      <th></th>\n",
       "      <th>ride_id</th>\n",
       "      <th>rideable_type</th>\n",
       "      <th>started_at</th>\n",
       "      <th>ended_at</th>\n",
       "      <th>start_station_name</th>\n",
       "      <th>start_station_id</th>\n",
       "      <th>end_station_name</th>\n",
       "      <th>end_station_id</th>\n",
       "      <th>start_lat</th>\n",
       "      <th>start_lng</th>\n",
       "      <th>end_lat</th>\n",
       "      <th>end_lng</th>\n",
       "      <th>member_casual</th>\n",
       "    </tr>\n",
       "  </thead>\n",
       "  <tbody>\n",
       "    <tr>\n",
       "      <th>0</th>\n",
       "      <td>6C992BD37A98A63F</td>\n",
       "      <td>classic_bike</td>\n",
       "      <td>2021-04-12 18:25:36</td>\n",
       "      <td>2021-04-12 18:56:55</td>\n",
       "      <td>State St &amp; Pearson St</td>\n",
       "      <td>TA1307000061</td>\n",
       "      <td>Southport Ave &amp; Waveland Ave</td>\n",
       "      <td>13235</td>\n",
       "      <td>41.897448</td>\n",
       "      <td>-87.628722</td>\n",
       "      <td>41.948150</td>\n",
       "      <td>-87.663940</td>\n",
       "      <td>member</td>\n",
       "    </tr>\n",
       "    <tr>\n",
       "      <th>1</th>\n",
       "      <td>1E0145613A209000</td>\n",
       "      <td>docked_bike</td>\n",
       "      <td>2021-04-27 17:27:11</td>\n",
       "      <td>2021-04-27 18:31:29</td>\n",
       "      <td>Dorchester Ave &amp; 49th St</td>\n",
       "      <td>KA1503000069</td>\n",
       "      <td>Dorchester Ave &amp; 49th St</td>\n",
       "      <td>KA1503000069</td>\n",
       "      <td>41.805772</td>\n",
       "      <td>-87.592464</td>\n",
       "      <td>41.805772</td>\n",
       "      <td>-87.592464</td>\n",
       "      <td>casual</td>\n",
       "    </tr>\n",
       "    <tr>\n",
       "      <th>2</th>\n",
       "      <td>E498E15508A80BAD</td>\n",
       "      <td>docked_bike</td>\n",
       "      <td>2021-04-03 12:42:45</td>\n",
       "      <td>2021-04-07 11:40:24</td>\n",
       "      <td>Loomis Blvd &amp; 84th St</td>\n",
       "      <td>20121</td>\n",
       "      <td>Loomis Blvd &amp; 84th St</td>\n",
       "      <td>20121</td>\n",
       "      <td>41.741487</td>\n",
       "      <td>-87.658410</td>\n",
       "      <td>41.741487</td>\n",
       "      <td>-87.658410</td>\n",
       "      <td>casual</td>\n",
       "    </tr>\n",
       "    <tr>\n",
       "      <th>3</th>\n",
       "      <td>1887262AD101C604</td>\n",
       "      <td>classic_bike</td>\n",
       "      <td>2021-04-17 09:17:42</td>\n",
       "      <td>2021-04-17 09:42:48</td>\n",
       "      <td>Honore St &amp; Division St</td>\n",
       "      <td>TA1305000034</td>\n",
       "      <td>Southport Ave &amp; Waveland Ave</td>\n",
       "      <td>13235</td>\n",
       "      <td>41.903119</td>\n",
       "      <td>-87.673935</td>\n",
       "      <td>41.948150</td>\n",
       "      <td>-87.663940</td>\n",
       "      <td>member</td>\n",
       "    </tr>\n",
       "    <tr>\n",
       "      <th>4</th>\n",
       "      <td>C123548CAB2A32A5</td>\n",
       "      <td>docked_bike</td>\n",
       "      <td>2021-04-03 12:42:25</td>\n",
       "      <td>2021-04-03 14:13:42</td>\n",
       "      <td>Loomis Blvd &amp; 84th St</td>\n",
       "      <td>20121</td>\n",
       "      <td>Loomis Blvd &amp; 84th St</td>\n",
       "      <td>20121</td>\n",
       "      <td>41.741487</td>\n",
       "      <td>-87.658410</td>\n",
       "      <td>41.741487</td>\n",
       "      <td>-87.658410</td>\n",
       "      <td>casual</td>\n",
       "    </tr>\n",
       "    <tr>\n",
       "      <th>...</th>\n",
       "      <td>...</td>\n",
       "      <td>...</td>\n",
       "      <td>...</td>\n",
       "      <td>...</td>\n",
       "      <td>...</td>\n",
       "      <td>...</td>\n",
       "      <td>...</td>\n",
       "      <td>...</td>\n",
       "      <td>...</td>\n",
       "      <td>...</td>\n",
       "      <td>...</td>\n",
       "      <td>...</td>\n",
       "      <td>...</td>\n",
       "    </tr>\n",
       "    <tr>\n",
       "      <th>284037</th>\n",
       "      <td>E23BE3DB740BE3B4</td>\n",
       "      <td>docked_bike</td>\n",
       "      <td>2022-03-13 16:31:03</td>\n",
       "      <td>2022-03-13 16:39:32</td>\n",
       "      <td>Michigan Ave &amp; Oak St</td>\n",
       "      <td>13042</td>\n",
       "      <td>Streeter Dr &amp; Grand Ave</td>\n",
       "      <td>13022</td>\n",
       "      <td>41.900960</td>\n",
       "      <td>-87.623777</td>\n",
       "      <td>41.892278</td>\n",
       "      <td>-87.612043</td>\n",
       "      <td>casual</td>\n",
       "    </tr>\n",
       "    <tr>\n",
       "      <th>284038</th>\n",
       "      <td>15AF71F3220F2A75</td>\n",
       "      <td>docked_bike</td>\n",
       "      <td>2022-03-09 06:56:02</td>\n",
       "      <td>2022-03-09 07:42:14</td>\n",
       "      <td>Broadway &amp; Barry Ave</td>\n",
       "      <td>13137</td>\n",
       "      <td>Ravenswood Ave &amp; Berteau Ave</td>\n",
       "      <td>TA1309000018</td>\n",
       "      <td>41.937582</td>\n",
       "      <td>-87.644098</td>\n",
       "      <td>41.957921</td>\n",
       "      <td>-87.673567</td>\n",
       "      <td>casual</td>\n",
       "    </tr>\n",
       "    <tr>\n",
       "      <th>284039</th>\n",
       "      <td>9C4CE6CC19F8225B</td>\n",
       "      <td>electric_bike</td>\n",
       "      <td>2022-03-09 15:55:26</td>\n",
       "      <td>2022-03-09 16:08:54</td>\n",
       "      <td>NaN</td>\n",
       "      <td>NaN</td>\n",
       "      <td>Albany Ave &amp; Montrose Ave</td>\n",
       "      <td>15621</td>\n",
       "      <td>41.940000</td>\n",
       "      <td>-87.710000</td>\n",
       "      <td>41.961041</td>\n",
       "      <td>-87.705866</td>\n",
       "      <td>member</td>\n",
       "    </tr>\n",
       "    <tr>\n",
       "      <th>284040</th>\n",
       "      <td>F4E136DEF696F3AE</td>\n",
       "      <td>electric_bike</td>\n",
       "      <td>2022-03-21 16:12:44</td>\n",
       "      <td>2022-03-21 16:18:24</td>\n",
       "      <td>NaN</td>\n",
       "      <td>NaN</td>\n",
       "      <td>Larrabee St &amp; Division St</td>\n",
       "      <td>KA1504000079</td>\n",
       "      <td>41.910000</td>\n",
       "      <td>-87.650000</td>\n",
       "      <td>41.903486</td>\n",
       "      <td>-87.643353</td>\n",
       "      <td>member</td>\n",
       "    </tr>\n",
       "    <tr>\n",
       "      <th>284041</th>\n",
       "      <td>5AEC5F39AF711895</td>\n",
       "      <td>classic_bike</td>\n",
       "      <td>2022-03-03 18:13:40</td>\n",
       "      <td>2022-03-03 18:23:39</td>\n",
       "      <td>Clark St &amp; Randolph St</td>\n",
       "      <td>TA1305000030</td>\n",
       "      <td>Streeter Dr &amp; Grand Ave</td>\n",
       "      <td>13022</td>\n",
       "      <td>41.884576</td>\n",
       "      <td>-87.631890</td>\n",
       "      <td>41.892278</td>\n",
       "      <td>-87.612043</td>\n",
       "      <td>member</td>\n",
       "    </tr>\n",
       "  </tbody>\n",
       "</table>\n",
       "<p>5723532 rows × 13 columns</p>\n",
       "</div>"
      ],
      "text/plain": [
       "                 ride_id  rideable_type           started_at  \\\n",
       "0       6C992BD37A98A63F   classic_bike  2021-04-12 18:25:36   \n",
       "1       1E0145613A209000    docked_bike  2021-04-27 17:27:11   \n",
       "2       E498E15508A80BAD    docked_bike  2021-04-03 12:42:45   \n",
       "3       1887262AD101C604   classic_bike  2021-04-17 09:17:42   \n",
       "4       C123548CAB2A32A5    docked_bike  2021-04-03 12:42:25   \n",
       "...                  ...            ...                  ...   \n",
       "284037  E23BE3DB740BE3B4    docked_bike  2022-03-13 16:31:03   \n",
       "284038  15AF71F3220F2A75    docked_bike  2022-03-09 06:56:02   \n",
       "284039  9C4CE6CC19F8225B  electric_bike  2022-03-09 15:55:26   \n",
       "284040  F4E136DEF696F3AE  electric_bike  2022-03-21 16:12:44   \n",
       "284041  5AEC5F39AF711895   classic_bike  2022-03-03 18:13:40   \n",
       "\n",
       "                   ended_at        start_station_name start_station_id  \\\n",
       "0       2021-04-12 18:56:55     State St & Pearson St     TA1307000061   \n",
       "1       2021-04-27 18:31:29  Dorchester Ave & 49th St     KA1503000069   \n",
       "2       2021-04-07 11:40:24     Loomis Blvd & 84th St            20121   \n",
       "3       2021-04-17 09:42:48   Honore St & Division St     TA1305000034   \n",
       "4       2021-04-03 14:13:42     Loomis Blvd & 84th St            20121   \n",
       "...                     ...                       ...              ...   \n",
       "284037  2022-03-13 16:39:32     Michigan Ave & Oak St            13042   \n",
       "284038  2022-03-09 07:42:14      Broadway & Barry Ave            13137   \n",
       "284039  2022-03-09 16:08:54                       NaN              NaN   \n",
       "284040  2022-03-21 16:18:24                       NaN              NaN   \n",
       "284041  2022-03-03 18:23:39    Clark St & Randolph St     TA1305000030   \n",
       "\n",
       "                    end_station_name end_station_id  start_lat  start_lng  \\\n",
       "0       Southport Ave & Waveland Ave          13235  41.897448 -87.628722   \n",
       "1           Dorchester Ave & 49th St   KA1503000069  41.805772 -87.592464   \n",
       "2              Loomis Blvd & 84th St          20121  41.741487 -87.658410   \n",
       "3       Southport Ave & Waveland Ave          13235  41.903119 -87.673935   \n",
       "4              Loomis Blvd & 84th St          20121  41.741487 -87.658410   \n",
       "...                              ...            ...        ...        ...   \n",
       "284037       Streeter Dr & Grand Ave          13022  41.900960 -87.623777   \n",
       "284038  Ravenswood Ave & Berteau Ave   TA1309000018  41.937582 -87.644098   \n",
       "284039     Albany Ave & Montrose Ave          15621  41.940000 -87.710000   \n",
       "284040     Larrabee St & Division St   KA1504000079  41.910000 -87.650000   \n",
       "284041       Streeter Dr & Grand Ave          13022  41.884576 -87.631890   \n",
       "\n",
       "          end_lat    end_lng member_casual  \n",
       "0       41.948150 -87.663940        member  \n",
       "1       41.805772 -87.592464        casual  \n",
       "2       41.741487 -87.658410        casual  \n",
       "3       41.948150 -87.663940        member  \n",
       "4       41.741487 -87.658410        casual  \n",
       "...           ...        ...           ...  \n",
       "284037  41.892278 -87.612043        casual  \n",
       "284038  41.957921 -87.673567        casual  \n",
       "284039  41.961041 -87.705866        member  \n",
       "284040  41.903486 -87.643353        member  \n",
       "284041  41.892278 -87.612043        member  \n",
       "\n",
       "[5723532 rows x 13 columns]"
      ]
     },
     "execution_count": 5,
     "metadata": {},
     "output_type": "execute_result"
    }
   ],
   "source": [
    "tripdata_yearly"
   ]
  },
  {
   "cell_type": "markdown",
   "id": "799cf7f3",
   "metadata": {},
   "source": [
    "## 2. Remove duplicates "
   ]
  },
  {
   "cell_type": "markdown",
   "id": "377ada27",
   "metadata": {},
   "source": [
    "remove duplicates, using 'ride_id' as searching index"
   ]
  },
  {
   "cell_type": "code",
   "execution_count": 6,
   "id": "57b024b8",
   "metadata": {},
   "outputs": [],
   "source": [
    "df_trip= tripdata_yearly.drop_duplicates('ride_id')"
   ]
  },
  {
   "cell_type": "code",
   "execution_count": 7,
   "id": "6cf0e585",
   "metadata": {
    "scrolled": true
   },
   "outputs": [
    {
     "data": {
      "text/html": [
       "<div>\n",
       "<style scoped>\n",
       "    .dataframe tbody tr th:only-of-type {\n",
       "        vertical-align: middle;\n",
       "    }\n",
       "\n",
       "    .dataframe tbody tr th {\n",
       "        vertical-align: top;\n",
       "    }\n",
       "\n",
       "    .dataframe thead th {\n",
       "        text-align: right;\n",
       "    }\n",
       "</style>\n",
       "<table border=\"1\" class=\"dataframe\">\n",
       "  <thead>\n",
       "    <tr style=\"text-align: right;\">\n",
       "      <th></th>\n",
       "      <th>ride_id</th>\n",
       "      <th>rideable_type</th>\n",
       "      <th>started_at</th>\n",
       "      <th>ended_at</th>\n",
       "      <th>start_station_name</th>\n",
       "      <th>start_station_id</th>\n",
       "      <th>end_station_name</th>\n",
       "      <th>end_station_id</th>\n",
       "      <th>start_lat</th>\n",
       "      <th>start_lng</th>\n",
       "      <th>end_lat</th>\n",
       "      <th>end_lng</th>\n",
       "      <th>member_casual</th>\n",
       "    </tr>\n",
       "  </thead>\n",
       "  <tbody>\n",
       "    <tr>\n",
       "      <th>0</th>\n",
       "      <td>6C992BD37A98A63F</td>\n",
       "      <td>classic_bike</td>\n",
       "      <td>2021-04-12 18:25:36</td>\n",
       "      <td>2021-04-12 18:56:55</td>\n",
       "      <td>State St &amp; Pearson St</td>\n",
       "      <td>TA1307000061</td>\n",
       "      <td>Southport Ave &amp; Waveland Ave</td>\n",
       "      <td>13235</td>\n",
       "      <td>41.897448</td>\n",
       "      <td>-87.628722</td>\n",
       "      <td>41.948150</td>\n",
       "      <td>-87.663940</td>\n",
       "      <td>member</td>\n",
       "    </tr>\n",
       "    <tr>\n",
       "      <th>1</th>\n",
       "      <td>1E0145613A209000</td>\n",
       "      <td>docked_bike</td>\n",
       "      <td>2021-04-27 17:27:11</td>\n",
       "      <td>2021-04-27 18:31:29</td>\n",
       "      <td>Dorchester Ave &amp; 49th St</td>\n",
       "      <td>KA1503000069</td>\n",
       "      <td>Dorchester Ave &amp; 49th St</td>\n",
       "      <td>KA1503000069</td>\n",
       "      <td>41.805772</td>\n",
       "      <td>-87.592464</td>\n",
       "      <td>41.805772</td>\n",
       "      <td>-87.592464</td>\n",
       "      <td>casual</td>\n",
       "    </tr>\n",
       "    <tr>\n",
       "      <th>2</th>\n",
       "      <td>E498E15508A80BAD</td>\n",
       "      <td>docked_bike</td>\n",
       "      <td>2021-04-03 12:42:45</td>\n",
       "      <td>2021-04-07 11:40:24</td>\n",
       "      <td>Loomis Blvd &amp; 84th St</td>\n",
       "      <td>20121</td>\n",
       "      <td>Loomis Blvd &amp; 84th St</td>\n",
       "      <td>20121</td>\n",
       "      <td>41.741487</td>\n",
       "      <td>-87.658410</td>\n",
       "      <td>41.741487</td>\n",
       "      <td>-87.658410</td>\n",
       "      <td>casual</td>\n",
       "    </tr>\n",
       "    <tr>\n",
       "      <th>3</th>\n",
       "      <td>1887262AD101C604</td>\n",
       "      <td>classic_bike</td>\n",
       "      <td>2021-04-17 09:17:42</td>\n",
       "      <td>2021-04-17 09:42:48</td>\n",
       "      <td>Honore St &amp; Division St</td>\n",
       "      <td>TA1305000034</td>\n",
       "      <td>Southport Ave &amp; Waveland Ave</td>\n",
       "      <td>13235</td>\n",
       "      <td>41.903119</td>\n",
       "      <td>-87.673935</td>\n",
       "      <td>41.948150</td>\n",
       "      <td>-87.663940</td>\n",
       "      <td>member</td>\n",
       "    </tr>\n",
       "    <tr>\n",
       "      <th>4</th>\n",
       "      <td>C123548CAB2A32A5</td>\n",
       "      <td>docked_bike</td>\n",
       "      <td>2021-04-03 12:42:25</td>\n",
       "      <td>2021-04-03 14:13:42</td>\n",
       "      <td>Loomis Blvd &amp; 84th St</td>\n",
       "      <td>20121</td>\n",
       "      <td>Loomis Blvd &amp; 84th St</td>\n",
       "      <td>20121</td>\n",
       "      <td>41.741487</td>\n",
       "      <td>-87.658410</td>\n",
       "      <td>41.741487</td>\n",
       "      <td>-87.658410</td>\n",
       "      <td>casual</td>\n",
       "    </tr>\n",
       "    <tr>\n",
       "      <th>...</th>\n",
       "      <td>...</td>\n",
       "      <td>...</td>\n",
       "      <td>...</td>\n",
       "      <td>...</td>\n",
       "      <td>...</td>\n",
       "      <td>...</td>\n",
       "      <td>...</td>\n",
       "      <td>...</td>\n",
       "      <td>...</td>\n",
       "      <td>...</td>\n",
       "      <td>...</td>\n",
       "      <td>...</td>\n",
       "      <td>...</td>\n",
       "    </tr>\n",
       "    <tr>\n",
       "      <th>284037</th>\n",
       "      <td>E23BE3DB740BE3B4</td>\n",
       "      <td>docked_bike</td>\n",
       "      <td>2022-03-13 16:31:03</td>\n",
       "      <td>2022-03-13 16:39:32</td>\n",
       "      <td>Michigan Ave &amp; Oak St</td>\n",
       "      <td>13042</td>\n",
       "      <td>Streeter Dr &amp; Grand Ave</td>\n",
       "      <td>13022</td>\n",
       "      <td>41.900960</td>\n",
       "      <td>-87.623777</td>\n",
       "      <td>41.892278</td>\n",
       "      <td>-87.612043</td>\n",
       "      <td>casual</td>\n",
       "    </tr>\n",
       "    <tr>\n",
       "      <th>284038</th>\n",
       "      <td>15AF71F3220F2A75</td>\n",
       "      <td>docked_bike</td>\n",
       "      <td>2022-03-09 06:56:02</td>\n",
       "      <td>2022-03-09 07:42:14</td>\n",
       "      <td>Broadway &amp; Barry Ave</td>\n",
       "      <td>13137</td>\n",
       "      <td>Ravenswood Ave &amp; Berteau Ave</td>\n",
       "      <td>TA1309000018</td>\n",
       "      <td>41.937582</td>\n",
       "      <td>-87.644098</td>\n",
       "      <td>41.957921</td>\n",
       "      <td>-87.673567</td>\n",
       "      <td>casual</td>\n",
       "    </tr>\n",
       "    <tr>\n",
       "      <th>284039</th>\n",
       "      <td>9C4CE6CC19F8225B</td>\n",
       "      <td>electric_bike</td>\n",
       "      <td>2022-03-09 15:55:26</td>\n",
       "      <td>2022-03-09 16:08:54</td>\n",
       "      <td>NaN</td>\n",
       "      <td>NaN</td>\n",
       "      <td>Albany Ave &amp; Montrose Ave</td>\n",
       "      <td>15621</td>\n",
       "      <td>41.940000</td>\n",
       "      <td>-87.710000</td>\n",
       "      <td>41.961041</td>\n",
       "      <td>-87.705866</td>\n",
       "      <td>member</td>\n",
       "    </tr>\n",
       "    <tr>\n",
       "      <th>284040</th>\n",
       "      <td>F4E136DEF696F3AE</td>\n",
       "      <td>electric_bike</td>\n",
       "      <td>2022-03-21 16:12:44</td>\n",
       "      <td>2022-03-21 16:18:24</td>\n",
       "      <td>NaN</td>\n",
       "      <td>NaN</td>\n",
       "      <td>Larrabee St &amp; Division St</td>\n",
       "      <td>KA1504000079</td>\n",
       "      <td>41.910000</td>\n",
       "      <td>-87.650000</td>\n",
       "      <td>41.903486</td>\n",
       "      <td>-87.643353</td>\n",
       "      <td>member</td>\n",
       "    </tr>\n",
       "    <tr>\n",
       "      <th>284041</th>\n",
       "      <td>5AEC5F39AF711895</td>\n",
       "      <td>classic_bike</td>\n",
       "      <td>2022-03-03 18:13:40</td>\n",
       "      <td>2022-03-03 18:23:39</td>\n",
       "      <td>Clark St &amp; Randolph St</td>\n",
       "      <td>TA1305000030</td>\n",
       "      <td>Streeter Dr &amp; Grand Ave</td>\n",
       "      <td>13022</td>\n",
       "      <td>41.884576</td>\n",
       "      <td>-87.631890</td>\n",
       "      <td>41.892278</td>\n",
       "      <td>-87.612043</td>\n",
       "      <td>member</td>\n",
       "    </tr>\n",
       "  </tbody>\n",
       "</table>\n",
       "<p>5723532 rows × 13 columns</p>\n",
       "</div>"
      ],
      "text/plain": [
       "                 ride_id  rideable_type           started_at  \\\n",
       "0       6C992BD37A98A63F   classic_bike  2021-04-12 18:25:36   \n",
       "1       1E0145613A209000    docked_bike  2021-04-27 17:27:11   \n",
       "2       E498E15508A80BAD    docked_bike  2021-04-03 12:42:45   \n",
       "3       1887262AD101C604   classic_bike  2021-04-17 09:17:42   \n",
       "4       C123548CAB2A32A5    docked_bike  2021-04-03 12:42:25   \n",
       "...                  ...            ...                  ...   \n",
       "284037  E23BE3DB740BE3B4    docked_bike  2022-03-13 16:31:03   \n",
       "284038  15AF71F3220F2A75    docked_bike  2022-03-09 06:56:02   \n",
       "284039  9C4CE6CC19F8225B  electric_bike  2022-03-09 15:55:26   \n",
       "284040  F4E136DEF696F3AE  electric_bike  2022-03-21 16:12:44   \n",
       "284041  5AEC5F39AF711895   classic_bike  2022-03-03 18:13:40   \n",
       "\n",
       "                   ended_at        start_station_name start_station_id  \\\n",
       "0       2021-04-12 18:56:55     State St & Pearson St     TA1307000061   \n",
       "1       2021-04-27 18:31:29  Dorchester Ave & 49th St     KA1503000069   \n",
       "2       2021-04-07 11:40:24     Loomis Blvd & 84th St            20121   \n",
       "3       2021-04-17 09:42:48   Honore St & Division St     TA1305000034   \n",
       "4       2021-04-03 14:13:42     Loomis Blvd & 84th St            20121   \n",
       "...                     ...                       ...              ...   \n",
       "284037  2022-03-13 16:39:32     Michigan Ave & Oak St            13042   \n",
       "284038  2022-03-09 07:42:14      Broadway & Barry Ave            13137   \n",
       "284039  2022-03-09 16:08:54                       NaN              NaN   \n",
       "284040  2022-03-21 16:18:24                       NaN              NaN   \n",
       "284041  2022-03-03 18:23:39    Clark St & Randolph St     TA1305000030   \n",
       "\n",
       "                    end_station_name end_station_id  start_lat  start_lng  \\\n",
       "0       Southport Ave & Waveland Ave          13235  41.897448 -87.628722   \n",
       "1           Dorchester Ave & 49th St   KA1503000069  41.805772 -87.592464   \n",
       "2              Loomis Blvd & 84th St          20121  41.741487 -87.658410   \n",
       "3       Southport Ave & Waveland Ave          13235  41.903119 -87.673935   \n",
       "4              Loomis Blvd & 84th St          20121  41.741487 -87.658410   \n",
       "...                              ...            ...        ...        ...   \n",
       "284037       Streeter Dr & Grand Ave          13022  41.900960 -87.623777   \n",
       "284038  Ravenswood Ave & Berteau Ave   TA1309000018  41.937582 -87.644098   \n",
       "284039     Albany Ave & Montrose Ave          15621  41.940000 -87.710000   \n",
       "284040     Larrabee St & Division St   KA1504000079  41.910000 -87.650000   \n",
       "284041       Streeter Dr & Grand Ave          13022  41.884576 -87.631890   \n",
       "\n",
       "          end_lat    end_lng member_casual  \n",
       "0       41.948150 -87.663940        member  \n",
       "1       41.805772 -87.592464        casual  \n",
       "2       41.741487 -87.658410        casual  \n",
       "3       41.948150 -87.663940        member  \n",
       "4       41.741487 -87.658410        casual  \n",
       "...           ...        ...           ...  \n",
       "284037  41.892278 -87.612043        casual  \n",
       "284038  41.957921 -87.673567        casual  \n",
       "284039  41.961041 -87.705866        member  \n",
       "284040  41.903486 -87.643353        member  \n",
       "284041  41.892278 -87.612043        member  \n",
       "\n",
       "[5723532 rows x 13 columns]"
      ]
     },
     "execution_count": 7,
     "metadata": {},
     "output_type": "execute_result"
    }
   ],
   "source": [
    "df_trip"
   ]
  },
  {
   "cell_type": "markdown",
   "id": "c61c577e",
   "metadata": {},
   "source": [
    "Drop Duplicates "
   ]
  },
  {
   "cell_type": "code",
   "execution_count": 8,
   "id": "401b319f",
   "metadata": {},
   "outputs": [
    {
     "data": {
      "text/plain": [
       "started_at           ended_at             start_station_id  end_station_id  member_casual\n",
       "2021-08-28 21:16:47  2021-08-28 21:30:55  13059             TA1308000049    member           3\n",
       "2021-09-06 18:47:11  2021-09-06 18:59:29  TA1309000019      TA1308000049    casual           2\n",
       "2021-08-04 19:19:52  2021-08-04 20:07:08  13235             13319           casual           2\n",
       "2021-07-04 22:59:21  2021-07-04 23:32:51  LP-               13430           casual           2\n",
       "2021-05-01 19:52:19  2021-05-01 20:02:32  TA1307000136      TA1307000136    member           2\n",
       "2021-07-29 22:32:39  2021-07-29 22:40:46  KA1706005007      TA1309000001    casual           2\n",
       "2021-11-14 21:13:04  2021-11-14 21:18:14  13216             13217           member           2\n",
       "2021-08-01 22:34:42  2021-08-01 22:48:50  SL-011            13033           casual           2\n",
       "2021-09-01 17:42:29  2021-09-01 18:10:27  13191             KA1503000012    casual           2\n",
       "2021-06-05 15:16:25  2021-06-05 15:41:30  TA1307000041      13022           casual           2\n",
       "2021-09-16 13:42:45  2021-09-16 13:56:16  KA1504000135      TA1305000039    member           2\n",
       "2021-06-27 11:03:13  2021-06-27 11:11:33  TA1309000063      KA1503000007    casual           2\n",
       "2021-08-27 15:15:14  2021-08-27 15:28:44  -999              13008           casual           2\n",
       "2021-12-11 20:01:27  2021-12-11 20:23:32  15529             13001           casual           2\n",
       "2021-08-14 17:00:26  2021-08-14 17:29:10  TA1309000006      13193           casual           2\n",
       "2021-08-15 12:25:34  2021-08-15 12:36:40  13341             TA1305000005    casual           2\n",
       "2021-08-14 17:28:01  2021-08-14 17:57:36  13154             TA1307000117    casual           2\n",
       "2021-05-27 22:02:11  2021-05-27 22:30:50  TA1305000011      TA1307000039    casual           2\n",
       "2021-05-21 20:51:46  2021-05-21 21:04:38  13085             13259           member           2\n",
       "2021-04-28 11:42:37  2021-04-28 11:49:44  TA1306000012      TA1307000151    member           2\n",
       "Name: member_casual, dtype: int64"
      ]
     },
     "execution_count": 8,
     "metadata": {},
     "output_type": "execute_result"
    }
   ],
   "source": [
    "# set the key and look for data record is over 1( has duplication). fill na with -999 \n",
    "key = ['started_at', 'ended_at', 'start_station_id', 'end_station_id','member_casual']\n",
    "df_trip.fillna(-999).groupby(key)['member_casual'].count().sort_values(ascending=False).head(20)"
   ]
  },
  {
   "cell_type": "code",
   "execution_count": 9,
   "id": "a804fafb",
   "metadata": {},
   "outputs": [
    {
     "name": "stdout",
     "output_type": "stream",
     "text": [
      "(5723532, 13)\n",
      "(5722959, 13)\n"
     ]
    }
   ],
   "source": [
    "# drop duplicates based on the key.\n",
    "\n",
    "key = ['started_at', 'ended_at', 'start_station_id', 'end_station_id','member_casual']\n",
    "df_trip_dedupped = df_trip.drop_duplicates(subset=key)\n",
    "\n",
    "print(df_trip.shape)\n",
    "print(df_trip_dedupped.shape)"
   ]
  },
  {
   "cell_type": "markdown",
   "id": "170b33b6",
   "metadata": {},
   "source": [
    "## 3. Drop unneccessary column - 'ride_id', 'start_station_name' & 'end_station_name'"
   ]
  },
  {
   "cell_type": "markdown",
   "id": "eda0c957",
   "metadata": {},
   "source": [
    "'ride_id' doesn't provide valuable information. Station ID and station name are reptitve info. Keep Station ID for analysis "
   ]
  },
  {
   "cell_type": "code",
   "execution_count": 10,
   "id": "fddcc8ef",
   "metadata": {},
   "outputs": [],
   "source": [
    "df_trip_dedupped =df_trip_dedupped.drop(['ride_id','start_station_name','end_station_name'],axis=1)"
   ]
  },
  {
   "cell_type": "code",
   "execution_count": 11,
   "id": "193e02d7",
   "metadata": {},
   "outputs": [
    {
     "data": {
      "text/html": [
       "<div>\n",
       "<style scoped>\n",
       "    .dataframe tbody tr th:only-of-type {\n",
       "        vertical-align: middle;\n",
       "    }\n",
       "\n",
       "    .dataframe tbody tr th {\n",
       "        vertical-align: top;\n",
       "    }\n",
       "\n",
       "    .dataframe thead th {\n",
       "        text-align: right;\n",
       "    }\n",
       "</style>\n",
       "<table border=\"1\" class=\"dataframe\">\n",
       "  <thead>\n",
       "    <tr style=\"text-align: right;\">\n",
       "      <th></th>\n",
       "      <th>rideable_type</th>\n",
       "      <th>started_at</th>\n",
       "      <th>ended_at</th>\n",
       "      <th>start_station_id</th>\n",
       "      <th>end_station_id</th>\n",
       "      <th>start_lat</th>\n",
       "      <th>start_lng</th>\n",
       "      <th>end_lat</th>\n",
       "      <th>end_lng</th>\n",
       "      <th>member_casual</th>\n",
       "    </tr>\n",
       "  </thead>\n",
       "  <tbody>\n",
       "    <tr>\n",
       "      <th>0</th>\n",
       "      <td>classic_bike</td>\n",
       "      <td>2021-04-12 18:25:36</td>\n",
       "      <td>2021-04-12 18:56:55</td>\n",
       "      <td>TA1307000061</td>\n",
       "      <td>13235</td>\n",
       "      <td>41.897448</td>\n",
       "      <td>-87.628722</td>\n",
       "      <td>41.948150</td>\n",
       "      <td>-87.663940</td>\n",
       "      <td>member</td>\n",
       "    </tr>\n",
       "    <tr>\n",
       "      <th>1</th>\n",
       "      <td>docked_bike</td>\n",
       "      <td>2021-04-27 17:27:11</td>\n",
       "      <td>2021-04-27 18:31:29</td>\n",
       "      <td>KA1503000069</td>\n",
       "      <td>KA1503000069</td>\n",
       "      <td>41.805772</td>\n",
       "      <td>-87.592464</td>\n",
       "      <td>41.805772</td>\n",
       "      <td>-87.592464</td>\n",
       "      <td>casual</td>\n",
       "    </tr>\n",
       "  </tbody>\n",
       "</table>\n",
       "</div>"
      ],
      "text/plain": [
       "  rideable_type           started_at             ended_at start_station_id  \\\n",
       "0  classic_bike  2021-04-12 18:25:36  2021-04-12 18:56:55     TA1307000061   \n",
       "1   docked_bike  2021-04-27 17:27:11  2021-04-27 18:31:29     KA1503000069   \n",
       "\n",
       "  end_station_id  start_lat  start_lng    end_lat    end_lng member_casual  \n",
       "0          13235  41.897448 -87.628722  41.948150 -87.663940        member  \n",
       "1   KA1503000069  41.805772 -87.592464  41.805772 -87.592464        casual  "
      ]
     },
     "execution_count": 11,
     "metadata": {},
     "output_type": "execute_result"
    }
   ],
   "source": [
    "df_trip_dedupped.head(2)"
   ]
  },
  {
   "cell_type": "markdown",
   "id": "b0590ea8",
   "metadata": {},
   "source": [
    "## 4. Dealing with missing data and null"
   ]
  },
  {
   "cell_type": "code",
   "execution_count": 12,
   "id": "6169fae2",
   "metadata": {},
   "outputs": [
    {
     "name": "stdout",
     "output_type": "stream",
     "text": [
      "rideable_type - 0%\n",
      "started_at - 0%\n",
      "ended_at - 0%\n",
      "start_station_id - 13%\n",
      "end_station_id - 14%\n",
      "start_lat - 0%\n",
      "start_lng - 0%\n",
      "end_lat - 0%\n",
      "end_lng - 0%\n",
      "member_casual - 0%\n"
     ]
    }
   ],
   "source": [
    "# it's a large dataset.Using the statistics to help with observing the data- % of missing.\n",
    "for col in df_trip_dedupped.columns:\n",
    "    pct_missing = np.mean(df_trip_dedupped[col].isnull())\n",
    "    print('{} - {}%'.format(col, round(pct_missing*100)))"
   ]
  },
  {
   "cell_type": "code",
   "execution_count": 13,
   "id": "a3a85fca",
   "metadata": {},
   "outputs": [],
   "source": [
    "# fill the na with '_MISSING_'\n",
    "df_trip_dedupped['start_station_id'] = df_trip_dedupped['start_station_id'].fillna('_MISSING_')\n",
    "df_trip_dedupped['end_station_id'] = df_trip_dedupped['end_station_id'].fillna('_MISSING_')"
   ]
  },
  {
   "cell_type": "code",
   "execution_count": 14,
   "id": "6b2c2075",
   "metadata": {},
   "outputs": [
    {
     "data": {
      "text/html": [
       "<div>\n",
       "<style scoped>\n",
       "    .dataframe tbody tr th:only-of-type {\n",
       "        vertical-align: middle;\n",
       "    }\n",
       "\n",
       "    .dataframe tbody tr th {\n",
       "        vertical-align: top;\n",
       "    }\n",
       "\n",
       "    .dataframe thead th {\n",
       "        text-align: right;\n",
       "    }\n",
       "</style>\n",
       "<table border=\"1\" class=\"dataframe\">\n",
       "  <thead>\n",
       "    <tr style=\"text-align: right;\">\n",
       "      <th></th>\n",
       "      <th>rideable_type</th>\n",
       "      <th>started_at</th>\n",
       "      <th>ended_at</th>\n",
       "      <th>start_station_id</th>\n",
       "      <th>end_station_id</th>\n",
       "      <th>start_lat</th>\n",
       "      <th>start_lng</th>\n",
       "      <th>end_lat</th>\n",
       "      <th>end_lng</th>\n",
       "      <th>member_casual</th>\n",
       "    </tr>\n",
       "  </thead>\n",
       "  <tbody>\n",
       "    <tr>\n",
       "      <th>0</th>\n",
       "      <td>classic_bike</td>\n",
       "      <td>2021-04-12 18:25:36</td>\n",
       "      <td>2021-04-12 18:56:55</td>\n",
       "      <td>TA1307000061</td>\n",
       "      <td>13235</td>\n",
       "      <td>41.897448</td>\n",
       "      <td>-87.628722</td>\n",
       "      <td>41.948150</td>\n",
       "      <td>-87.663940</td>\n",
       "      <td>member</td>\n",
       "    </tr>\n",
       "    <tr>\n",
       "      <th>1</th>\n",
       "      <td>docked_bike</td>\n",
       "      <td>2021-04-27 17:27:11</td>\n",
       "      <td>2021-04-27 18:31:29</td>\n",
       "      <td>KA1503000069</td>\n",
       "      <td>KA1503000069</td>\n",
       "      <td>41.805772</td>\n",
       "      <td>-87.592464</td>\n",
       "      <td>41.805772</td>\n",
       "      <td>-87.592464</td>\n",
       "      <td>casual</td>\n",
       "    </tr>\n",
       "  </tbody>\n",
       "</table>\n",
       "</div>"
      ],
      "text/plain": [
       "  rideable_type           started_at             ended_at start_station_id  \\\n",
       "0  classic_bike  2021-04-12 18:25:36  2021-04-12 18:56:55     TA1307000061   \n",
       "1   docked_bike  2021-04-27 17:27:11  2021-04-27 18:31:29     KA1503000069   \n",
       "\n",
       "  end_station_id  start_lat  start_lng    end_lat    end_lng member_casual  \n",
       "0          13235  41.897448 -87.628722  41.948150 -87.663940        member  \n",
       "1   KA1503000069  41.805772 -87.592464  41.805772 -87.592464        casual  "
      ]
     },
     "execution_count": 14,
     "metadata": {},
     "output_type": "execute_result"
    }
   ],
   "source": [
    "df_trip_dedupped.head(2)"
   ]
  },
  {
   "cell_type": "code",
   "execution_count": 15,
   "id": "123420f4",
   "metadata": {},
   "outputs": [
    {
     "data": {
      "text/plain": [
       "rideable_type          0\n",
       "started_at             0\n",
       "ended_at               0\n",
       "start_station_id       0\n",
       "end_station_id         0\n",
       "start_lat              0\n",
       "start_lng              0\n",
       "end_lat             4716\n",
       "end_lng             4716\n",
       "member_casual          0\n",
       "dtype: int64"
      ]
     },
     "execution_count": 15,
     "metadata": {},
     "output_type": "execute_result"
    }
   ],
   "source": [
    "# count the null: total 4716 rows for both 'start_lat' & 'start_lng' are null\n",
    "df_trip_dedupped.isnull().sum()"
   ]
  },
  {
   "cell_type": "code",
   "execution_count": 16,
   "id": "0ec20403",
   "metadata": {},
   "outputs": [
    {
     "data": {
      "text/plain": [
       "rideable_type       4716\n",
       "started_at          4716\n",
       "ended_at            4716\n",
       "start_station_id    4716\n",
       "end_station_id      4716\n",
       "start_lat           4716\n",
       "start_lng           4716\n",
       "end_lat                0\n",
       "end_lng                0\n",
       "member_casual       4716\n",
       "dtype: int64"
      ]
     },
     "execution_count": 16,
     "metadata": {},
     "output_type": "execute_result"
    }
   ],
   "source": [
    "# nulls in \"end_lat\" & \"end_lng\" are at the same row \n",
    "df_trip_dedupped[(df_trip_dedupped['end_lat'].isnull())|(df_trip_dedupped['end_lng'].isnull())].count()"
   ]
  },
  {
   "cell_type": "code",
   "execution_count": 17,
   "id": "a0edd061",
   "metadata": {},
   "outputs": [
    {
     "name": "stdout",
     "output_type": "stream",
     "text": [
      "<class 'pandas.core.frame.DataFrame'>\n",
      "Int64Index: 5718243 entries, 0 to 284041\n",
      "Data columns (total 10 columns):\n",
      " #   Column            Dtype  \n",
      "---  ------            -----  \n",
      " 0   rideable_type     object \n",
      " 1   started_at        object \n",
      " 2   ended_at          object \n",
      " 3   start_station_id  object \n",
      " 4   end_station_id    object \n",
      " 5   start_lat         float64\n",
      " 6   start_lng         float64\n",
      " 7   end_lat           float64\n",
      " 8   end_lng           float64\n",
      " 9   member_casual     object \n",
      "dtypes: float64(4), object(6)\n",
      "memory usage: 479.9+ MB\n"
     ]
    }
   ],
   "source": [
    "# drop the rows due to small % \n",
    "df_no_mv= df_trip_dedupped.dropna(axis=0)\n",
    "df_no_mv.info()"
   ]
  },
  {
   "cell_type": "markdown",
   "id": "aec6bf56",
   "metadata": {},
   "source": [
    "## 5. Check irregular data (Outliers)"
   ]
  },
  {
   "cell_type": "code",
   "execution_count": 18,
   "id": "f15c1c50",
   "metadata": {},
   "outputs": [
    {
     "data": {
      "text/html": [
       "<div>\n",
       "<style scoped>\n",
       "    .dataframe tbody tr th:only-of-type {\n",
       "        vertical-align: middle;\n",
       "    }\n",
       "\n",
       "    .dataframe tbody tr th {\n",
       "        vertical-align: top;\n",
       "    }\n",
       "\n",
       "    .dataframe thead th {\n",
       "        text-align: right;\n",
       "    }\n",
       "</style>\n",
       "<table border=\"1\" class=\"dataframe\">\n",
       "  <thead>\n",
       "    <tr style=\"text-align: right;\">\n",
       "      <th></th>\n",
       "      <th>start_lat</th>\n",
       "      <th>start_lng</th>\n",
       "      <th>end_lat</th>\n",
       "      <th>end_lng</th>\n",
       "    </tr>\n",
       "  </thead>\n",
       "  <tbody>\n",
       "    <tr>\n",
       "      <th>count</th>\n",
       "      <td>5.718243e+06</td>\n",
       "      <td>5.718243e+06</td>\n",
       "      <td>5.718243e+06</td>\n",
       "      <td>5.718243e+06</td>\n",
       "    </tr>\n",
       "    <tr>\n",
       "      <th>mean</th>\n",
       "      <td>4.190067e+01</td>\n",
       "      <td>-8.764630e+01</td>\n",
       "      <td>4.190091e+01</td>\n",
       "      <td>-8.764650e+01</td>\n",
       "    </tr>\n",
       "    <tr>\n",
       "      <th>std</th>\n",
       "      <td>4.648025e-02</td>\n",
       "      <td>2.974501e-02</td>\n",
       "      <td>4.657847e-02</td>\n",
       "      <td>2.935303e-02</td>\n",
       "    </tr>\n",
       "    <tr>\n",
       "      <th>min</th>\n",
       "      <td>4.164000e+01</td>\n",
       "      <td>-8.784000e+01</td>\n",
       "      <td>4.139000e+01</td>\n",
       "      <td>-8.897000e+01</td>\n",
       "    </tr>\n",
       "    <tr>\n",
       "      <th>25%</th>\n",
       "      <td>4.188132e+01</td>\n",
       "      <td>-8.766014e+01</td>\n",
       "      <td>4.188132e+01</td>\n",
       "      <td>-8.766028e+01</td>\n",
       "    </tr>\n",
       "    <tr>\n",
       "      <th>50%</th>\n",
       "      <td>4.189871e+01</td>\n",
       "      <td>-8.764195e+01</td>\n",
       "      <td>4.189897e+01</td>\n",
       "      <td>-8.764288e+01</td>\n",
       "    </tr>\n",
       "    <tr>\n",
       "      <th>75%</th>\n",
       "      <td>4.192889e+01</td>\n",
       "      <td>-8.762775e+01</td>\n",
       "      <td>4.192914e+01</td>\n",
       "      <td>-8.762775e+01</td>\n",
       "    </tr>\n",
       "    <tr>\n",
       "      <th>max</th>\n",
       "      <td>4.563503e+01</td>\n",
       "      <td>-7.379648e+01</td>\n",
       "      <td>4.216812e+01</td>\n",
       "      <td>-8.749000e+01</td>\n",
       "    </tr>\n",
       "  </tbody>\n",
       "</table>\n",
       "</div>"
      ],
      "text/plain": [
       "          start_lat     start_lng       end_lat       end_lng\n",
       "count  5.718243e+06  5.718243e+06  5.718243e+06  5.718243e+06\n",
       "mean   4.190067e+01 -8.764630e+01  4.190091e+01 -8.764650e+01\n",
       "std    4.648025e-02  2.974501e-02  4.657847e-02  2.935303e-02\n",
       "min    4.164000e+01 -8.784000e+01  4.139000e+01 -8.897000e+01\n",
       "25%    4.188132e+01 -8.766014e+01  4.188132e+01 -8.766028e+01\n",
       "50%    4.189871e+01 -8.764195e+01  4.189897e+01 -8.764288e+01\n",
       "75%    4.192889e+01 -8.762775e+01  4.192914e+01 -8.762775e+01\n",
       "max    4.563503e+01 -7.379648e+01  4.216812e+01 -8.749000e+01"
      ]
     },
     "execution_count": 18,
     "metadata": {},
     "output_type": "execute_result"
    }
   ],
   "source": [
    "# Descriptive Statistics for observation.  \n",
    "df_no_mv.describe()"
   ]
  },
  {
   "cell_type": "code",
   "execution_count": 19,
   "id": "b0419c7c",
   "metadata": {},
   "outputs": [
    {
     "data": {
      "text/plain": [
       "count     5718243\n",
       "unique          2\n",
       "top        member\n",
       "freq      3175701\n",
       "Name: member_casual, dtype: object"
      ]
     },
     "execution_count": 19,
     "metadata": {},
     "output_type": "execute_result"
    }
   ],
   "source": [
    "# 2 types of membership. 'Member' is 3,175,701, more than 'casual'. \n",
    "df_no_mv['member_casual'].describe()"
   ]
  },
  {
   "cell_type": "code",
   "execution_count": 20,
   "id": "2f6f9d92",
   "metadata": {},
   "outputs": [
    {
     "data": {
      "text/plain": [
       "count          5718243\n",
       "unique               3\n",
       "top       classic_bike\n",
       "freq           3246015\n",
       "Name: rideable_type, dtype: object"
      ]
     },
     "execution_count": 20,
     "metadata": {},
     "output_type": "execute_result"
    }
   ],
   "source": [
    "# 3 types of 'rideable_type'. 'classic_bike' is the most used. \n",
    "df_no_mv['rideable_type'].describe()"
   ]
  },
  {
   "cell_type": "code",
   "execution_count": 21,
   "id": "59d7d93a",
   "metadata": {},
   "outputs": [
    {
     "name": "stdout",
     "output_type": "stream",
     "text": [
      "rideable_type        object\n",
      "started_at           object\n",
      "ended_at             object\n",
      "start_station_id     object\n",
      "end_station_id       object\n",
      "start_lat           float64\n",
      "start_lng           float64\n",
      "end_lat             float64\n",
      "end_lng             float64\n",
      "member_casual        object\n",
      "dtype: object\n"
     ]
    }
   ],
   "source": [
    "# datatype report for each column\n",
    "print(df_no_mv.dtypes)"
   ]
  },
  {
   "cell_type": "markdown",
   "id": "919df508",
   "metadata": {},
   "source": [
    "## 6. Manage datatypes"
   ]
  },
  {
   "cell_type": "markdown",
   "id": "ae5c5a9d",
   "metadata": {},
   "source": [
    "Change dtype for 'started_at', 'ended_at' column from object to datetime & member_casual to category"
   ]
  },
  {
   "cell_type": "code",
   "execution_count": 22,
   "id": "903b01a2",
   "metadata": {},
   "outputs": [
    {
     "data": {
      "text/html": [
       "<div>\n",
       "<style scoped>\n",
       "    .dataframe tbody tr th:only-of-type {\n",
       "        vertical-align: middle;\n",
       "    }\n",
       "\n",
       "    .dataframe tbody tr th {\n",
       "        vertical-align: top;\n",
       "    }\n",
       "\n",
       "    .dataframe thead th {\n",
       "        text-align: right;\n",
       "    }\n",
       "</style>\n",
       "<table border=\"1\" class=\"dataframe\">\n",
       "  <thead>\n",
       "    <tr style=\"text-align: right;\">\n",
       "      <th></th>\n",
       "      <th>started_at</th>\n",
       "      <th>ended_at</th>\n",
       "    </tr>\n",
       "  </thead>\n",
       "  <tbody>\n",
       "    <tr>\n",
       "      <th>0</th>\n",
       "      <td>2021-04-12 18:25:36</td>\n",
       "      <td>2021-04-12 18:56:55</td>\n",
       "    </tr>\n",
       "    <tr>\n",
       "      <th>1</th>\n",
       "      <td>2021-04-27 17:27:11</td>\n",
       "      <td>2021-04-27 18:31:29</td>\n",
       "    </tr>\n",
       "    <tr>\n",
       "      <th>2</th>\n",
       "      <td>2021-04-03 12:42:45</td>\n",
       "      <td>2021-04-07 11:40:24</td>\n",
       "    </tr>\n",
       "  </tbody>\n",
       "</table>\n",
       "</div>"
      ],
      "text/plain": [
       "            started_at             ended_at\n",
       "0  2021-04-12 18:25:36  2021-04-12 18:56:55\n",
       "1  2021-04-27 17:27:11  2021-04-27 18:31:29\n",
       "2  2021-04-03 12:42:45  2021-04-07 11:40:24"
      ]
     },
     "execution_count": 22,
     "metadata": {},
     "output_type": "execute_result"
    }
   ],
   "source": [
    "df_no_mv[['started_at', 'ended_at']].head(3)"
   ]
  },
  {
   "cell_type": "code",
   "execution_count": 23,
   "id": "c04851b5",
   "metadata": {},
   "outputs": [],
   "source": [
    "from datetime import datetime, timedelta"
   ]
  },
  {
   "cell_type": "code",
   "execution_count": 24,
   "id": "cb6d22a5",
   "metadata": {
    "scrolled": true
   },
   "outputs": [
    {
     "name": "stderr",
     "output_type": "stream",
     "text": [
      "C:\\Users\\shuqi\\AppData\\Local\\Temp\\ipykernel_8112\\3663702798.py:2: SettingWithCopyWarning: \n",
      "A value is trying to be set on a copy of a slice from a DataFrame.\n",
      "Try using .loc[row_indexer,col_indexer] = value instead\n",
      "\n",
      "See the caveats in the documentation: https://pandas.pydata.org/pandas-docs/stable/user_guide/indexing.html#returning-a-view-versus-a-copy\n",
      "  df_no_mv['started_at'] = pd.to_datetime(df_no_mv['started_at'], format='%Y-%m-%d %H:%M:%S')\n"
     ]
    },
    {
     "name": "stdout",
     "output_type": "stream",
     "text": [
      "<class 'pandas.core.frame.DataFrame'>\n",
      "Int64Index: 5718243 entries, 0 to 284041\n",
      "Data columns (total 10 columns):\n",
      " #   Column            Dtype         \n",
      "---  ------            -----         \n",
      " 0   rideable_type     object        \n",
      " 1   started_at        datetime64[ns]\n",
      " 2   ended_at          datetime64[ns]\n",
      " 3   start_station_id  object        \n",
      " 4   end_station_id    object        \n",
      " 5   start_lat         float64       \n",
      " 6   start_lng         float64       \n",
      " 7   end_lat           float64       \n",
      " 8   end_lng           float64       \n",
      " 9   member_casual     object        \n",
      "dtypes: datetime64[ns](2), float64(4), object(4)\n",
      "memory usage: 479.9+ MB\n"
     ]
    },
    {
     "name": "stderr",
     "output_type": "stream",
     "text": [
      "C:\\Users\\shuqi\\AppData\\Local\\Temp\\ipykernel_8112\\3663702798.py:3: SettingWithCopyWarning: \n",
      "A value is trying to be set on a copy of a slice from a DataFrame.\n",
      "Try using .loc[row_indexer,col_indexer] = value instead\n",
      "\n",
      "See the caveats in the documentation: https://pandas.pydata.org/pandas-docs/stable/user_guide/indexing.html#returning-a-view-versus-a-copy\n",
      "  df_no_mv['ended_at'] = pd.to_datetime(df_no_mv['ended_at'], format='%Y-%m-%d %H:%M:%S')\n"
     ]
    }
   ],
   "source": [
    "# recomended to add \", format='%Y-%m-%d' '%H:%M:%S'\" in the (), after the ['started_at'] & ['ended_at']. \n",
    "df_no_mv['started_at'] = pd.to_datetime(df_no_mv['started_at'], format='%Y-%m-%d %H:%M:%S')\n",
    "df_no_mv['ended_at'] = pd.to_datetime(df_no_mv['ended_at'], format='%Y-%m-%d %H:%M:%S')                                            \n",
    "df_no_mv.info()"
   ]
  },
  {
   "cell_type": "code",
   "execution_count": 25,
   "id": "361898cf",
   "metadata": {},
   "outputs": [],
   "source": [
    "df_type={'rideable_type':'category','member_casual':'category' }"
   ]
  },
  {
   "cell_type": "code",
   "execution_count": 26,
   "id": "50c4c91b",
   "metadata": {},
   "outputs": [
    {
     "data": {
      "text/plain": [
       "rideable_type             category\n",
       "started_at          datetime64[ns]\n",
       "ended_at            datetime64[ns]\n",
       "start_station_id            string\n",
       "end_station_id              string\n",
       "start_lat                  float64\n",
       "start_lng                  float64\n",
       "end_lat                    float64\n",
       "end_lng                    float64\n",
       "member_casual             category\n",
       "dtype: object"
      ]
     },
     "execution_count": 26,
     "metadata": {},
     "output_type": "execute_result"
    }
   ],
   "source": [
    "df_no_mv= df_no_mv.astype({'rideable_type':'category','member_casual':'category','start_station_id':'string',\n",
    "                           'end_station_id':'string'})\n",
    "df_no_mv.dtypes"
   ]
  },
  {
   "cell_type": "markdown",
   "id": "8d51afed",
   "metadata": {},
   "source": [
    "## 7. Add column 'trip duration'"
   ]
  },
  {
   "cell_type": "markdown",
   "id": "1fa80454",
   "metadata": {},
   "source": [
    "convert 'trip_dur' to days  "
   ]
  },
  {
   "cell_type": "code",
   "execution_count": 27,
   "id": "33171c31",
   "metadata": {},
   "outputs": [],
   "source": [
    "df_no_mv['trip_dur']= ((df_no_mv['ended_at']- df_no_mv['started_at']))/pd.Timedelta(hours=24)\n",
    "\n",
    "df_clean= df_no_mv"
   ]
  },
  {
   "cell_type": "code",
   "execution_count": 28,
   "id": "44550b9d",
   "metadata": {},
   "outputs": [
    {
     "data": {
      "text/html": [
       "<div>\n",
       "<style scoped>\n",
       "    .dataframe tbody tr th:only-of-type {\n",
       "        vertical-align: middle;\n",
       "    }\n",
       "\n",
       "    .dataframe tbody tr th {\n",
       "        vertical-align: top;\n",
       "    }\n",
       "\n",
       "    .dataframe thead th {\n",
       "        text-align: right;\n",
       "    }\n",
       "</style>\n",
       "<table border=\"1\" class=\"dataframe\">\n",
       "  <thead>\n",
       "    <tr style=\"text-align: right;\">\n",
       "      <th></th>\n",
       "      <th>rideable_type</th>\n",
       "      <th>started_at</th>\n",
       "      <th>ended_at</th>\n",
       "      <th>start_station_id</th>\n",
       "      <th>end_station_id</th>\n",
       "      <th>start_lat</th>\n",
       "      <th>start_lng</th>\n",
       "      <th>end_lat</th>\n",
       "      <th>end_lng</th>\n",
       "      <th>member_casual</th>\n",
       "      <th>trip_dur</th>\n",
       "    </tr>\n",
       "  </thead>\n",
       "  <tbody>\n",
       "    <tr>\n",
       "      <th>0</th>\n",
       "      <td>classic_bike</td>\n",
       "      <td>2021-04-12 18:25:36</td>\n",
       "      <td>2021-04-12 18:56:55</td>\n",
       "      <td>TA1307000061</td>\n",
       "      <td>13235</td>\n",
       "      <td>41.897448</td>\n",
       "      <td>-87.628722</td>\n",
       "      <td>41.948150</td>\n",
       "      <td>-87.663940</td>\n",
       "      <td>member</td>\n",
       "      <td>0.021748</td>\n",
       "    </tr>\n",
       "    <tr>\n",
       "      <th>1</th>\n",
       "      <td>docked_bike</td>\n",
       "      <td>2021-04-27 17:27:11</td>\n",
       "      <td>2021-04-27 18:31:29</td>\n",
       "      <td>KA1503000069</td>\n",
       "      <td>KA1503000069</td>\n",
       "      <td>41.805772</td>\n",
       "      <td>-87.592464</td>\n",
       "      <td>41.805772</td>\n",
       "      <td>-87.592464</td>\n",
       "      <td>casual</td>\n",
       "      <td>0.044653</td>\n",
       "    </tr>\n",
       "    <tr>\n",
       "      <th>2</th>\n",
       "      <td>docked_bike</td>\n",
       "      <td>2021-04-03 12:42:45</td>\n",
       "      <td>2021-04-07 11:40:24</td>\n",
       "      <td>20121</td>\n",
       "      <td>20121</td>\n",
       "      <td>41.741487</td>\n",
       "      <td>-87.658410</td>\n",
       "      <td>41.741487</td>\n",
       "      <td>-87.658410</td>\n",
       "      <td>casual</td>\n",
       "      <td>3.956701</td>\n",
       "    </tr>\n",
       "  </tbody>\n",
       "</table>\n",
       "</div>"
      ],
      "text/plain": [
       "  rideable_type          started_at            ended_at start_station_id  \\\n",
       "0  classic_bike 2021-04-12 18:25:36 2021-04-12 18:56:55     TA1307000061   \n",
       "1   docked_bike 2021-04-27 17:27:11 2021-04-27 18:31:29     KA1503000069   \n",
       "2   docked_bike 2021-04-03 12:42:45 2021-04-07 11:40:24            20121   \n",
       "\n",
       "  end_station_id  start_lat  start_lng    end_lat    end_lng member_casual  \\\n",
       "0          13235  41.897448 -87.628722  41.948150 -87.663940        member   \n",
       "1   KA1503000069  41.805772 -87.592464  41.805772 -87.592464        casual   \n",
       "2          20121  41.741487 -87.658410  41.741487 -87.658410        casual   \n",
       "\n",
       "   trip_dur  \n",
       "0  0.021748  \n",
       "1  0.044653  \n",
       "2  3.956701  "
      ]
     },
     "execution_count": 28,
     "metadata": {},
     "output_type": "execute_result"
    }
   ],
   "source": [
    "df_clean.head(3)"
   ]
  },
  {
   "cell_type": "markdown",
   "id": "50b1ae58",
   "metadata": {},
   "source": [
    "## 8. Check irregular data (outliers) for trip_dur"
   ]
  },
  {
   "cell_type": "code",
   "execution_count": 29,
   "id": "9b55f195",
   "metadata": {},
   "outputs": [
    {
     "name": "stdout",
     "output_type": "stream",
     "text": [
      "<class 'pandas.core.frame.DataFrame'>\n",
      "Int64Index: 5718243 entries, 0 to 284041\n",
      "Data columns (total 11 columns):\n",
      " #   Column            Dtype         \n",
      "---  ------            -----         \n",
      " 0   rideable_type     category      \n",
      " 1   started_at        datetime64[ns]\n",
      " 2   ended_at          datetime64[ns]\n",
      " 3   start_station_id  string        \n",
      " 4   end_station_id    string        \n",
      " 5   start_lat         float64       \n",
      " 6   start_lng         float64       \n",
      " 7   end_lat           float64       \n",
      " 8   end_lng           float64       \n",
      " 9   member_casual     category      \n",
      " 10  trip_dur          float64       \n",
      "dtypes: category(2), datetime64[ns](2), float64(5), string(2)\n",
      "memory usage: 447.2 MB\n"
     ]
    }
   ],
   "source": [
    "# review the datatype\n",
    "df_clean.info()"
   ]
  },
  {
   "cell_type": "markdown",
   "id": "c5a6c5ab",
   "metadata": {},
   "source": [
    "Deepdive 'trip_dur'<0, it doesn't made any logic sense, but likely mistakes --> remove the 145 rows due to the small sample size. "
   ]
  },
  {
   "cell_type": "code",
   "execution_count": 30,
   "id": "9699697f",
   "metadata": {},
   "outputs": [
    {
     "data": {
      "text/html": [
       "<div>\n",
       "<style scoped>\n",
       "    .dataframe tbody tr th:only-of-type {\n",
       "        vertical-align: middle;\n",
       "    }\n",
       "\n",
       "    .dataframe tbody tr th {\n",
       "        vertical-align: top;\n",
       "    }\n",
       "\n",
       "    .dataframe thead th {\n",
       "        text-align: right;\n",
       "    }\n",
       "</style>\n",
       "<table border=\"1\" class=\"dataframe\">\n",
       "  <thead>\n",
       "    <tr style=\"text-align: right;\">\n",
       "      <th></th>\n",
       "      <th>started_at</th>\n",
       "      <th>ended_at</th>\n",
       "      <th>trip_dur</th>\n",
       "      <th>rideable_type</th>\n",
       "      <th>member_casual</th>\n",
       "    </tr>\n",
       "  </thead>\n",
       "  <tbody>\n",
       "    <tr>\n",
       "      <th>22361</th>\n",
       "      <td>2021-04-07 16:11:33</td>\n",
       "      <td>2021-04-07 16:11:26</td>\n",
       "      <td>-0.000081</td>\n",
       "      <td>classic_bike</td>\n",
       "      <td>member</td>\n",
       "    </tr>\n",
       "    <tr>\n",
       "      <th>31844</th>\n",
       "      <td>2021-04-27 17:13:44</td>\n",
       "      <td>2021-04-27 17:11:32</td>\n",
       "      <td>-0.001528</td>\n",
       "      <td>electric_bike</td>\n",
       "      <td>member</td>\n",
       "    </tr>\n",
       "    <tr>\n",
       "      <th>292566</th>\n",
       "      <td>2021-04-23 09:43:39</td>\n",
       "      <td>2021-04-23 09:43:29</td>\n",
       "      <td>-0.000116</td>\n",
       "      <td>electric_bike</td>\n",
       "      <td>member</td>\n",
       "    </tr>\n",
       "    <tr>\n",
       "      <th>292678</th>\n",
       "      <td>2021-04-30 10:56:32</td>\n",
       "      <td>2021-04-30 10:56:30</td>\n",
       "      <td>-0.000023</td>\n",
       "      <td>classic_bike</td>\n",
       "      <td>member</td>\n",
       "    </tr>\n",
       "    <tr>\n",
       "      <th>293033</th>\n",
       "      <td>2021-04-17 12:43:36</td>\n",
       "      <td>2021-04-17 12:43:27</td>\n",
       "      <td>-0.000104</td>\n",
       "      <td>classic_bike</td>\n",
       "      <td>member</td>\n",
       "    </tr>\n",
       "    <tr>\n",
       "      <th>...</th>\n",
       "      <td>...</td>\n",
       "      <td>...</td>\n",
       "      <td>...</td>\n",
       "      <td>...</td>\n",
       "      <td>...</td>\n",
       "    </tr>\n",
       "    <tr>\n",
       "      <th>357132</th>\n",
       "      <td>2021-11-07 01:59:53</td>\n",
       "      <td>2021-11-07 01:09:02</td>\n",
       "      <td>-0.035312</td>\n",
       "      <td>electric_bike</td>\n",
       "      <td>casual</td>\n",
       "    </tr>\n",
       "    <tr>\n",
       "      <th>358579</th>\n",
       "      <td>2021-11-07 01:57:53</td>\n",
       "      <td>2021-11-07 01:27:02</td>\n",
       "      <td>-0.021424</td>\n",
       "      <td>electric_bike</td>\n",
       "      <td>casual</td>\n",
       "    </tr>\n",
       "    <tr>\n",
       "      <th>359949</th>\n",
       "      <td>2021-11-07 01:53:34</td>\n",
       "      <td>2021-11-07 01:00:42</td>\n",
       "      <td>-0.036713</td>\n",
       "      <td>electric_bike</td>\n",
       "      <td>casual</td>\n",
       "    </tr>\n",
       "    <tr>\n",
       "      <th>184212</th>\n",
       "      <td>2022-03-05 11:00:57</td>\n",
       "      <td>2022-03-05 10:55:01</td>\n",
       "      <td>-0.004120</td>\n",
       "      <td>classic_bike</td>\n",
       "      <td>casual</td>\n",
       "    </tr>\n",
       "    <tr>\n",
       "      <th>187389</th>\n",
       "      <td>2022-03-05 11:38:04</td>\n",
       "      <td>2022-03-05 11:37:57</td>\n",
       "      <td>-0.000081</td>\n",
       "      <td>electric_bike</td>\n",
       "      <td>casual</td>\n",
       "    </tr>\n",
       "  </tbody>\n",
       "</table>\n",
       "<p>145 rows × 5 columns</p>\n",
       "</div>"
      ],
      "text/plain": [
       "                started_at            ended_at  trip_dur  rideable_type  \\\n",
       "22361  2021-04-07 16:11:33 2021-04-07 16:11:26 -0.000081   classic_bike   \n",
       "31844  2021-04-27 17:13:44 2021-04-27 17:11:32 -0.001528  electric_bike   \n",
       "292566 2021-04-23 09:43:39 2021-04-23 09:43:29 -0.000116  electric_bike   \n",
       "292678 2021-04-30 10:56:32 2021-04-30 10:56:30 -0.000023   classic_bike   \n",
       "293033 2021-04-17 12:43:36 2021-04-17 12:43:27 -0.000104   classic_bike   \n",
       "...                    ...                 ...       ...            ...   \n",
       "357132 2021-11-07 01:59:53 2021-11-07 01:09:02 -0.035312  electric_bike   \n",
       "358579 2021-11-07 01:57:53 2021-11-07 01:27:02 -0.021424  electric_bike   \n",
       "359949 2021-11-07 01:53:34 2021-11-07 01:00:42 -0.036713  electric_bike   \n",
       "184212 2022-03-05 11:00:57 2022-03-05 10:55:01 -0.004120   classic_bike   \n",
       "187389 2022-03-05 11:38:04 2022-03-05 11:37:57 -0.000081  electric_bike   \n",
       "\n",
       "       member_casual  \n",
       "22361         member  \n",
       "31844         member  \n",
       "292566        member  \n",
       "292678        member  \n",
       "293033        member  \n",
       "...              ...  \n",
       "357132        casual  \n",
       "358579        casual  \n",
       "359949        casual  \n",
       "184212        casual  \n",
       "187389        casual  \n",
       "\n",
       "[145 rows x 5 columns]"
      ]
     },
     "execution_count": 30,
     "metadata": {},
     "output_type": "execute_result"
    }
   ],
   "source": [
    "# close analysis of the trip_dur<0 --> Looks like error at time of entry. Remove the data. \n",
    "df_clean[['started_at','ended_at','trip_dur','rideable_type','member_casual']].loc[((df_clean['trip_dur'])<0)]"
   ]
  },
  {
   "cell_type": "code",
   "execution_count": 31,
   "id": "7947b1e0",
   "metadata": {
    "scrolled": true
   },
   "outputs": [
    {
     "name": "stdout",
     "output_type": "stream",
     "text": [
      "<class 'pandas.core.frame.DataFrame'>\n",
      "Int64Index: 5718098 entries, 0 to 284041\n",
      "Data columns (total 11 columns):\n",
      " #   Column            Dtype         \n",
      "---  ------            -----         \n",
      " 0   rideable_type     category      \n",
      " 1   started_at        datetime64[ns]\n",
      " 2   ended_at          datetime64[ns]\n",
      " 3   start_station_id  string        \n",
      " 4   end_station_id    string        \n",
      " 5   start_lat         float64       \n",
      " 6   start_lng         float64       \n",
      " 7   end_lat           float64       \n",
      " 8   end_lng           float64       \n",
      " 9   member_casual     category      \n",
      " 10  trip_dur          float64       \n",
      "dtypes: category(2), datetime64[ns](2), float64(5), string(2)\n",
      "memory usage: 447.2 MB\n"
     ]
    }
   ],
   "source": [
    "# select 'trip_dur >=0', total 5718098 rows, confirm 145 rows were removed from the total 5718243 rows.  \n",
    "df=df_clean[df_clean.trip_dur>=0]\n",
    "df.info()"
   ]
  },
  {
   "cell_type": "markdown",
   "id": "217a484e",
   "metadata": {},
   "source": [
    "## 9. Save the data as pickle file for future use"
   ]
  },
  {
   "cell_type": "code",
   "execution_count": 32,
   "id": "d72fcc19",
   "metadata": {},
   "outputs": [],
   "source": [
    "df.to_pickle('bikeshare_clean_data.pkl')"
   ]
  },
  {
   "cell_type": "markdown",
   "id": "42eded7c",
   "metadata": {},
   "source": [
    "# Step 2: Exploratary Data Analysis"
   ]
  },
  {
   "cell_type": "markdown",
   "id": "7a1a8865",
   "metadata": {},
   "source": [
    "analyze the max trip_dur. No member borrowed the bike for longer than 1.5 days."
   ]
  },
  {
   "cell_type": "code",
   "execution_count": 33,
   "id": "19ac43ff",
   "metadata": {},
   "outputs": [
    {
     "data": {
      "text/html": [
       "<div>\n",
       "<style scoped>\n",
       "    .dataframe tbody tr th:only-of-type {\n",
       "        vertical-align: middle;\n",
       "    }\n",
       "\n",
       "    .dataframe tbody tr th {\n",
       "        vertical-align: top;\n",
       "    }\n",
       "\n",
       "    .dataframe thead th {\n",
       "        text-align: right;\n",
       "    }\n",
       "</style>\n",
       "<table border=\"1\" class=\"dataframe\">\n",
       "  <thead>\n",
       "    <tr style=\"text-align: right;\">\n",
       "      <th></th>\n",
       "      <th>started_at</th>\n",
       "      <th>ended_at</th>\n",
       "      <th>trip_dur</th>\n",
       "      <th>member_casual</th>\n",
       "    </tr>\n",
       "  </thead>\n",
       "  <tbody>\n",
       "    <tr>\n",
       "      <th>2</th>\n",
       "      <td>2021-04-03 12:42:45</td>\n",
       "      <td>2021-04-07 11:40:24</td>\n",
       "      <td>3.956701</td>\n",
       "      <td>casual</td>\n",
       "    </tr>\n",
       "    <tr>\n",
       "      <th>41</th>\n",
       "      <td>2021-04-04 20:06:26</td>\n",
       "      <td>2021-04-06 10:28:52</td>\n",
       "      <td>1.598912</td>\n",
       "      <td>casual</td>\n",
       "    </tr>\n",
       "    <tr>\n",
       "      <th>4773</th>\n",
       "      <td>2021-04-27 16:14:50</td>\n",
       "      <td>2021-05-01 14:32:41</td>\n",
       "      <td>3.929063</td>\n",
       "      <td>casual</td>\n",
       "    </tr>\n",
       "    <tr>\n",
       "      <th>6974</th>\n",
       "      <td>2021-04-06 16:23:27</td>\n",
       "      <td>2021-04-08 11:45:16</td>\n",
       "      <td>1.806817</td>\n",
       "      <td>casual</td>\n",
       "    </tr>\n",
       "    <tr>\n",
       "      <th>9491</th>\n",
       "      <td>2021-04-04 16:44:26</td>\n",
       "      <td>2021-04-29 10:26:37</td>\n",
       "      <td>24.737627</td>\n",
       "      <td>casual</td>\n",
       "    </tr>\n",
       "    <tr>\n",
       "      <th>...</th>\n",
       "      <td>...</td>\n",
       "      <td>...</td>\n",
       "      <td>...</td>\n",
       "      <td>...</td>\n",
       "    </tr>\n",
       "    <tr>\n",
       "      <th>147400</th>\n",
       "      <td>2022-03-12 19:31:25</td>\n",
       "      <td>2022-03-14 10:28:19</td>\n",
       "      <td>1.622847</td>\n",
       "      <td>casual</td>\n",
       "    </tr>\n",
       "    <tr>\n",
       "      <th>170071</th>\n",
       "      <td>2022-03-04 22:31:58</td>\n",
       "      <td>2022-03-07 14:02:56</td>\n",
       "      <td>2.646505</td>\n",
       "      <td>casual</td>\n",
       "    </tr>\n",
       "    <tr>\n",
       "      <th>196257</th>\n",
       "      <td>2022-03-05 13:26:14</td>\n",
       "      <td>2022-03-07 10:53:12</td>\n",
       "      <td>1.893727</td>\n",
       "      <td>casual</td>\n",
       "    </tr>\n",
       "    <tr>\n",
       "      <th>230659</th>\n",
       "      <td>2022-03-01 08:50:19</td>\n",
       "      <td>2022-03-05 10:00:20</td>\n",
       "      <td>4.048623</td>\n",
       "      <td>casual</td>\n",
       "    </tr>\n",
       "    <tr>\n",
       "      <th>279790</th>\n",
       "      <td>2022-03-02 15:44:14</td>\n",
       "      <td>2022-03-04 17:20:21</td>\n",
       "      <td>2.066748</td>\n",
       "      <td>casual</td>\n",
       "    </tr>\n",
       "  </tbody>\n",
       "</table>\n",
       "<p>862 rows × 4 columns</p>\n",
       "</div>"
      ],
      "text/plain": [
       "                started_at            ended_at   trip_dur member_casual\n",
       "2      2021-04-03 12:42:45 2021-04-07 11:40:24   3.956701        casual\n",
       "41     2021-04-04 20:06:26 2021-04-06 10:28:52   1.598912        casual\n",
       "4773   2021-04-27 16:14:50 2021-05-01 14:32:41   3.929063        casual\n",
       "6974   2021-04-06 16:23:27 2021-04-08 11:45:16   1.806817        casual\n",
       "9491   2021-04-04 16:44:26 2021-04-29 10:26:37  24.737627        casual\n",
       "...                    ...                 ...        ...           ...\n",
       "147400 2022-03-12 19:31:25 2022-03-14 10:28:19   1.622847        casual\n",
       "170071 2022-03-04 22:31:58 2022-03-07 14:02:56   2.646505        casual\n",
       "196257 2022-03-05 13:26:14 2022-03-07 10:53:12   1.893727        casual\n",
       "230659 2022-03-01 08:50:19 2022-03-05 10:00:20   4.048623        casual\n",
       "279790 2022-03-02 15:44:14 2022-03-04 17:20:21   2.066748        casual\n",
       "\n",
       "[862 rows x 4 columns]"
      ]
     },
     "execution_count": 33,
     "metadata": {},
     "output_type": "execute_result"
    }
   ],
   "source": [
    "x= df[['started_at','ended_at','trip_dur','member_casual']].loc[(df['trip_dur'])>=1.5]\n",
    "x"
   ]
  },
  {
   "cell_type": "code",
   "execution_count": 34,
   "id": "65ff2fad",
   "metadata": {},
   "outputs": [
    {
     "data": {
      "text/html": [
       "<div>\n",
       "<style scoped>\n",
       "    .dataframe tbody tr th:only-of-type {\n",
       "        vertical-align: middle;\n",
       "    }\n",
       "\n",
       "    .dataframe tbody tr th {\n",
       "        vertical-align: top;\n",
       "    }\n",
       "\n",
       "    .dataframe thead th {\n",
       "        text-align: right;\n",
       "    }\n",
       "</style>\n",
       "<table border=\"1\" class=\"dataframe\">\n",
       "  <thead>\n",
       "    <tr style=\"text-align: right;\">\n",
       "      <th></th>\n",
       "      <th>started_at</th>\n",
       "      <th>ended_at</th>\n",
       "      <th>trip_dur</th>\n",
       "      <th>member_casual</th>\n",
       "    </tr>\n",
       "  </thead>\n",
       "  <tbody>\n",
       "  </tbody>\n",
       "</table>\n",
       "</div>"
      ],
      "text/plain": [
       "Empty DataFrame\n",
       "Columns: [started_at, ended_at, trip_dur, member_casual]\n",
       "Index: []"
      ]
     },
     "execution_count": 34,
     "metadata": {},
     "output_type": "execute_result"
    }
   ],
   "source": [
    "#show the record where memeber borrowed bikes longer than 1.5 days. None. \n",
    "# Confirm that no memeber is in the long trip_dur outliers. \n",
    "x[['started_at','ended_at','trip_dur','member_casual']].loc[x['member_casual']=='member']"
   ]
  },
  {
   "cell_type": "markdown",
   "id": "b22f4192",
   "metadata": {},
   "source": [
    "explore 'member_casual','rideable_type' correlation with the trip number and trip duration  "
   ]
  },
  {
   "cell_type": "code",
   "execution_count": 35,
   "id": "afd9b817",
   "metadata": {
    "scrolled": false
   },
   "outputs": [
    {
     "data": {
      "text/html": [
       "<div>\n",
       "<style scoped>\n",
       "    .dataframe tbody tr th:only-of-type {\n",
       "        vertical-align: middle;\n",
       "    }\n",
       "\n",
       "    .dataframe tbody tr th {\n",
       "        vertical-align: top;\n",
       "    }\n",
       "\n",
       "    .dataframe thead tr th {\n",
       "        text-align: left;\n",
       "    }\n",
       "\n",
       "    .dataframe thead tr:last-of-type th {\n",
       "        text-align: right;\n",
       "    }\n",
       "</style>\n",
       "<table border=\"1\" class=\"dataframe\">\n",
       "  <thead>\n",
       "    <tr>\n",
       "      <th></th>\n",
       "      <th colspan=\"3\" halign=\"left\">mean</th>\n",
       "      <th colspan=\"3\" halign=\"left\">count</th>\n",
       "    </tr>\n",
       "    <tr>\n",
       "      <th></th>\n",
       "      <th colspan=\"3\" halign=\"left\">trip_dur</th>\n",
       "      <th colspan=\"3\" halign=\"left\">trip_dur</th>\n",
       "    </tr>\n",
       "    <tr>\n",
       "      <th>rideable_type</th>\n",
       "      <th>classic_bike</th>\n",
       "      <th>docked_bike</th>\n",
       "      <th>electric_bike</th>\n",
       "      <th>classic_bike</th>\n",
       "      <th>docked_bike</th>\n",
       "      <th>electric_bike</th>\n",
       "    </tr>\n",
       "    <tr>\n",
       "      <th>member_casual</th>\n",
       "      <th></th>\n",
       "      <th></th>\n",
       "      <th></th>\n",
       "      <th></th>\n",
       "      <th></th>\n",
       "      <th></th>\n",
       "    </tr>\n",
       "  </thead>\n",
       "  <tbody>\n",
       "    <tr>\n",
       "      <th>casual</th>\n",
       "      <td>0.018155</td>\n",
       "      <td>0.053815</td>\n",
       "      <td>0.013597</td>\n",
       "      <td>1254192</td>\n",
       "      <td>303443</td>\n",
       "      <td>984847</td>\n",
       "    </tr>\n",
       "    <tr>\n",
       "      <th>member</th>\n",
       "      <td>0.009408</td>\n",
       "      <td>NaN</td>\n",
       "      <td>0.008604</td>\n",
       "      <td>1991739</td>\n",
       "      <td>0</td>\n",
       "      <td>1183877</td>\n",
       "    </tr>\n",
       "  </tbody>\n",
       "</table>\n",
       "</div>"
      ],
      "text/plain": [
       "                      mean                                  count              \\\n",
       "                  trip_dur                               trip_dur               \n",
       "rideable_type classic_bike docked_bike electric_bike classic_bike docked_bike   \n",
       "member_casual                                                                   \n",
       "casual            0.018155    0.053815      0.013597      1254192      303443   \n",
       "member            0.009408         NaN      0.008604      1991739           0   \n",
       "\n",
       "                             \n",
       "                             \n",
       "rideable_type electric_bike  \n",
       "member_casual                \n",
       "casual               984847  \n",
       "member              1183877  "
      ]
     },
     "execution_count": 35,
     "metadata": {},
     "output_type": "execute_result"
    }
   ],
   "source": [
    "bpd.pivot_table(df, \n",
    "              index= ['member_casual'],\n",
    "              values= ['trip_dur'],\n",
    "              columns=['rideable_type'],\n",
    "              aggfunc= ['mean','count'])"
   ]
  },
  {
   "cell_type": "code",
   "execution_count": 36,
   "id": "2e99ca2e",
   "metadata": {
    "scrolled": true
   },
   "outputs": [
    {
     "data": {
      "text/plain": [
       "<AxesSubplot:>"
      ]
     },
     "execution_count": 36,
     "metadata": {},
     "output_type": "execute_result"
    },
    {
     "data": {
      "image/png": "[encoded data removed]",
      "text/plain": [
       "<Figure size 1440x720 with 1 Axes>"
      ]
     },
     "metadata": {},
     "output_type": "display_data"
    }
   ],
   "source": [
    "# histgram to visualize the 'rideable_type' and the trips used by each type of bike.\n",
    "# Bike_type: Classic : Electric bikes: docked_bike= 56:38:6\n",
    "df['rideable_type'].hist(figsize=(20,10),bins=10)  "
   ]
  },
  {
   "cell_type": "markdown",
   "id": "197a0d3b",
   "metadata": {},
   "source": [
    "Summary: \n",
    "\n",
    "1. All the docked_bike users are casual riders.  \n",
    "2. Trips by Classic: Electric bikes: docked_bike = 56:38:6. Classic bike and electric_bike rental takes up to 94%. "
   ]
  },
  {
   "cell_type": "markdown",
   "id": "09f81344",
   "metadata": {},
   "source": [
    "# Recommendation 1: \n",
    "    \n",
    "Provide more marketing campaign visibility (footage, frequency) at docked_bike stations. The users are 100% targeted customers. "
   ]
  },
  {
   "cell_type": "markdown",
   "id": "997f7b70",
   "metadata": {},
   "source": [
    "Next step: explore the pattern of the start and end station "
   ]
  },
  {
   "cell_type": "code",
   "execution_count": 37,
   "id": "4ead0100",
   "metadata": {
    "scrolled": false
   },
   "outputs": [
    {
     "data": {
      "text/plain": [
       "start_station_id\n",
       "_MISSING_       745344\n",
       "13022            83887\n",
       "LF-005           47717\n",
       "13300            45523\n",
       "13042            44219\n",
       "TA1308000050     44002\n",
       "13008            42193\n",
       "TA1307000039     41184\n",
       "KA1504000135     37844\n",
       "TA1308000001     36382\n",
       "Name: start_station_id, dtype: int64"
      ]
     },
     "execution_count": 37,
     "metadata": {},
     "output_type": "execute_result"
    }
   ],
   "source": [
    "# identify the most popular stations \n",
    "df.groupby('start_station_id')['start_station_id'].count().sort_values(ascending=False).head(10)"
   ]
  },
  {
   "cell_type": "code",
   "execution_count": 38,
   "id": "923cfaec",
   "metadata": {},
   "outputs": [
    {
     "data": {
      "text/plain": [
       "end_station_id\n",
       "_MISSING_       791496\n",
       "13022            84677\n",
       "LF-005           53816\n",
       "13042            44624\n",
       "TA1308000050     44121\n",
       "13300            43774\n",
       "13008            42882\n",
       "TA1307000039     40466\n",
       "KA1504000135     37489\n",
       "TA1308000001     36521\n",
       "Name: end_station_id, dtype: int64"
      ]
     },
     "execution_count": 38,
     "metadata": {},
     "output_type": "execute_result"
    }
   ],
   "source": [
    "df.groupby('end_station_id')['end_station_id'].count().sort_values(ascending=False).head(10)"
   ]
  },
  {
   "cell_type": "markdown",
   "id": "2b5a6066",
   "metadata": {},
   "source": [
    "From the analysis, the most used start and end stations perfectly overlap. The top 7 stations are: 13022, LF-005,13042, 13000,TA1308000050, 13008, TA1308000050. "
   ]
  },
  {
   "cell_type": "markdown",
   "id": "2cd551c3",
   "metadata": {},
   "source": [
    "# Recommendation 2:\n",
    "From the location perspective: marketing campaign can prioritize the most popular 7 locations, where the campaign will target more users, and more targeted customers.\n",
    "\n",
    "The 7 stations are: 13022, LF-005,13042, 13000,TA1308000050, 13008, TA1308000050, TA1307000039, KA1504000135, TA1308000001."
   ]
  },
  {
   "cell_type": "markdown",
   "id": "f5d030dc",
   "metadata": {},
   "source": [
    "Next step: explore the trend of bike rental pattern by month/ season  "
   ]
  },
  {
   "cell_type": "code",
   "execution_count": 39,
   "id": "9d9fbf7b",
   "metadata": {},
   "outputs": [
    {
     "data": {
      "text/plain": [
       "member_casual\n",
       "casual    AxesSubplot(0.125,0.125;0.775x0.755)\n",
       "member    AxesSubplot(0.125,0.125;0.775x0.755)\n",
       "Name: started_at, dtype: object"
      ]
     },
     "execution_count": 39,
     "metadata": {},
     "output_type": "execute_result"
    },
    {
     "data": {
      "image/png": "[encoded data removed]",
      "text/plain": [
       "<Figure size 432x288 with 1 Axes>"
      ]
     },
     "metadata": {},
     "output_type": "display_data"
    }
   ],
   "source": [
    "# the demand starts to increase from Jun to Oct. Lowest is in Jan & Feb.\n",
    "df.groupby(['member_casual'])['started_at'].plot()"
   ]
  },
  {
   "cell_type": "markdown",
   "id": "75de5fa7",
   "metadata": {},
   "source": [
    "# Recommendation 3:\n",
    "\n",
    "From the time perspective, Jun-Oct, are the peak season. I recommend to increase budget spent in these months. The marketing campaingn will be viewed by more more target customers.   "
   ]
  },
  {
   "cell_type": "markdown",
   "id": "39c2b3c1",
   "metadata": {},
   "source": [
    "Next step:  explore the membership distribution and behavior difference "
   ]
  },
  {
   "cell_type": "code",
   "execution_count": 40,
   "id": "d943c104",
   "metadata": {},
   "outputs": [],
   "source": [
    "# categorical data in seaborn\n",
    "import seaborn as sns"
   ]
  },
  {
   "cell_type": "code",
   "execution_count": 41,
   "id": "5dc582be",
   "metadata": {
    "scrolled": true
   },
   "outputs": [
    {
     "data": {
      "text/plain": [
       "<seaborn.axisgrid.FacetGrid at 0x2510beeb2b0>"
      ]
     },
     "execution_count": 41,
     "metadata": {},
     "output_type": "execute_result"
    },
    {
     "data": {
      "image/png": "[encoded data removed]",
      "text/plain": [
       "<Figure size 360x360 with 1 Axes>"
      ]
     },
     "metadata": {},
     "output_type": "display_data"
    }
   ],
   "source": [
    "sns.catplot(data=df, x='member_casual',kind='count',aspect=1)"
   ]
  },
  {
   "cell_type": "code",
   "execution_count": 42,
   "id": "dc0ca49c",
   "metadata": {
    "scrolled": true
   },
   "outputs": [
    {
     "data": {
      "text/plain": [
       "Index(['rideable_type', 'member_casual'], dtype='object')"
      ]
     },
     "execution_count": 42,
     "metadata": {},
     "output_type": "execute_result"
    }
   ],
   "source": [
    "# count all the categorical columns \n",
    "cat_cols= df.select_dtypes(include=['category']).columns\n",
    "cat_cols"
   ]
  },
  {
   "cell_type": "code",
   "execution_count": 43,
   "id": "73b840c4",
   "metadata": {},
   "outputs": [
    {
     "name": "stdout",
     "output_type": "stream",
     "text": [
      "member    3175616\n",
      "casual    2542482\n",
      "Name: member_casual, dtype: int64\n",
      "\n",
      "member    3175616\n",
      "casual    2542482\n",
      "Name: member_casual, dtype: int64\n",
      "\n"
     ]
    }
   ],
   "source": [
    "#  Member trip: Casual trip = 1.25:1\n",
    "for i in cat_cols:\n",
    "    print(df[col].value_counts())\n",
    "    print()"
   ]
  },
  {
   "cell_type": "code",
   "execution_count": 44,
   "id": "84b1d537",
   "metadata": {
    "scrolled": true
   },
   "outputs": [
    {
     "data": {
      "text/plain": [
       "<AxesSubplot:ylabel='trip_dur'>"
      ]
     },
     "execution_count": 44,
     "metadata": {},
     "output_type": "execute_result"
    },
    {
     "data": {
      "image/png": "[encoded data removed]",
      "text/plain": [
       "<Figure size 432x288 with 1 Axes>"
      ]
     },
     "metadata": {},
     "output_type": "display_data"
    }
   ],
   "source": [
    "# casual & members ratio shows in pie chart \n",
    "df.groupby(['member_casual'])['trip_dur'].count().plot.pie()"
   ]
  },
  {
   "cell_type": "markdown",
   "id": "b87c7be3",
   "metadata": {},
   "source": [
    "The rentals by members users are slightly higher than casual users.  "
   ]
  },
  {
   "cell_type": "markdown",
   "id": "84fce42f",
   "metadata": {},
   "source": [
    "## user behaviour - day , Member V. Casual "
   ]
  },
  {
   "cell_type": "code",
   "execution_count": 45,
   "id": "076e6754",
   "metadata": {
    "scrolled": true
   },
   "outputs": [
    {
     "name": "stderr",
     "output_type": "stream",
     "text": [
      "C:\\Users\\shuqi\\AppData\\Local\\Temp\\ipykernel_8112\\3333220642.py:1: SettingWithCopyWarning: \n",
      "A value is trying to be set on a copy of a slice from a DataFrame.\n",
      "Try using .loc[row_indexer,col_indexer] = value instead\n",
      "\n",
      "See the caveats in the documentation: https://pandas.pydata.org/pandas-docs/stable/user_guide/indexing.html#returning-a-view-versus-a-copy\n",
      "  df['day_name']= df['started_at'].dt.day_name()\n"
     ]
    },
    {
     "data": {
      "text/html": [
       "<div>\n",
       "<style scoped>\n",
       "    .dataframe tbody tr th:only-of-type {\n",
       "        vertical-align: middle;\n",
       "    }\n",
       "\n",
       "    .dataframe tbody tr th {\n",
       "        vertical-align: top;\n",
       "    }\n",
       "\n",
       "    .dataframe thead th {\n",
       "        text-align: right;\n",
       "    }\n",
       "</style>\n",
       "<table border=\"1\" class=\"dataframe\">\n",
       "  <thead>\n",
       "    <tr style=\"text-align: right;\">\n",
       "      <th></th>\n",
       "      <th>rideable_type</th>\n",
       "      <th>started_at</th>\n",
       "      <th>ended_at</th>\n",
       "      <th>start_station_id</th>\n",
       "      <th>end_station_id</th>\n",
       "      <th>start_lat</th>\n",
       "      <th>start_lng</th>\n",
       "      <th>end_lat</th>\n",
       "      <th>end_lng</th>\n",
       "      <th>member_casual</th>\n",
       "      <th>trip_dur</th>\n",
       "      <th>day_name</th>\n",
       "    </tr>\n",
       "  </thead>\n",
       "  <tbody>\n",
       "    <tr>\n",
       "      <th>0</th>\n",
       "      <td>classic_bike</td>\n",
       "      <td>2021-04-12 18:25:36</td>\n",
       "      <td>2021-04-12 18:56:55</td>\n",
       "      <td>TA1307000061</td>\n",
       "      <td>13235</td>\n",
       "      <td>41.897448</td>\n",
       "      <td>-87.628722</td>\n",
       "      <td>41.948150</td>\n",
       "      <td>-87.663940</td>\n",
       "      <td>member</td>\n",
       "      <td>0.021748</td>\n",
       "      <td>Monday</td>\n",
       "    </tr>\n",
       "    <tr>\n",
       "      <th>1</th>\n",
       "      <td>docked_bike</td>\n",
       "      <td>2021-04-27 17:27:11</td>\n",
       "      <td>2021-04-27 18:31:29</td>\n",
       "      <td>KA1503000069</td>\n",
       "      <td>KA1503000069</td>\n",
       "      <td>41.805772</td>\n",
       "      <td>-87.592464</td>\n",
       "      <td>41.805772</td>\n",
       "      <td>-87.592464</td>\n",
       "      <td>casual</td>\n",
       "      <td>0.044653</td>\n",
       "      <td>Tuesday</td>\n",
       "    </tr>\n",
       "    <tr>\n",
       "      <th>2</th>\n",
       "      <td>docked_bike</td>\n",
       "      <td>2021-04-03 12:42:45</td>\n",
       "      <td>2021-04-07 11:40:24</td>\n",
       "      <td>20121</td>\n",
       "      <td>20121</td>\n",
       "      <td>41.741487</td>\n",
       "      <td>-87.658410</td>\n",
       "      <td>41.741487</td>\n",
       "      <td>-87.658410</td>\n",
       "      <td>casual</td>\n",
       "      <td>3.956701</td>\n",
       "      <td>Saturday</td>\n",
       "    </tr>\n",
       "    <tr>\n",
       "      <th>3</th>\n",
       "      <td>classic_bike</td>\n",
       "      <td>2021-04-17 09:17:42</td>\n",
       "      <td>2021-04-17 09:42:48</td>\n",
       "      <td>TA1305000034</td>\n",
       "      <td>13235</td>\n",
       "      <td>41.903119</td>\n",
       "      <td>-87.673935</td>\n",
       "      <td>41.948150</td>\n",
       "      <td>-87.663940</td>\n",
       "      <td>member</td>\n",
       "      <td>0.017431</td>\n",
       "      <td>Saturday</td>\n",
       "    </tr>\n",
       "    <tr>\n",
       "      <th>4</th>\n",
       "      <td>docked_bike</td>\n",
       "      <td>2021-04-03 12:42:25</td>\n",
       "      <td>2021-04-03 14:13:42</td>\n",
       "      <td>20121</td>\n",
       "      <td>20121</td>\n",
       "      <td>41.741487</td>\n",
       "      <td>-87.658410</td>\n",
       "      <td>41.741487</td>\n",
       "      <td>-87.658410</td>\n",
       "      <td>casual</td>\n",
       "      <td>0.063391</td>\n",
       "      <td>Saturday</td>\n",
       "    </tr>\n",
       "    <tr>\n",
       "      <th>...</th>\n",
       "      <td>...</td>\n",
       "      <td>...</td>\n",
       "      <td>...</td>\n",
       "      <td>...</td>\n",
       "      <td>...</td>\n",
       "      <td>...</td>\n",
       "      <td>...</td>\n",
       "      <td>...</td>\n",
       "      <td>...</td>\n",
       "      <td>...</td>\n",
       "      <td>...</td>\n",
       "      <td>...</td>\n",
       "    </tr>\n",
       "    <tr>\n",
       "      <th>284037</th>\n",
       "      <td>docked_bike</td>\n",
       "      <td>2022-03-13 16:31:03</td>\n",
       "      <td>2022-03-13 16:39:32</td>\n",
       "      <td>13042</td>\n",
       "      <td>13022</td>\n",
       "      <td>41.900960</td>\n",
       "      <td>-87.623777</td>\n",
       "      <td>41.892278</td>\n",
       "      <td>-87.612043</td>\n",
       "      <td>casual</td>\n",
       "      <td>0.005891</td>\n",
       "      <td>Sunday</td>\n",
       "    </tr>\n",
       "    <tr>\n",
       "      <th>284038</th>\n",
       "      <td>docked_bike</td>\n",
       "      <td>2022-03-09 06:56:02</td>\n",
       "      <td>2022-03-09 07:42:14</td>\n",
       "      <td>13137</td>\n",
       "      <td>TA1309000018</td>\n",
       "      <td>41.937582</td>\n",
       "      <td>-87.644098</td>\n",
       "      <td>41.957921</td>\n",
       "      <td>-87.673567</td>\n",
       "      <td>casual</td>\n",
       "      <td>0.032083</td>\n",
       "      <td>Wednesday</td>\n",
       "    </tr>\n",
       "    <tr>\n",
       "      <th>284039</th>\n",
       "      <td>electric_bike</td>\n",
       "      <td>2022-03-09 15:55:26</td>\n",
       "      <td>2022-03-09 16:08:54</td>\n",
       "      <td>_MISSING_</td>\n",
       "      <td>15621</td>\n",
       "      <td>41.940000</td>\n",
       "      <td>-87.710000</td>\n",
       "      <td>41.961041</td>\n",
       "      <td>-87.705866</td>\n",
       "      <td>member</td>\n",
       "      <td>0.009352</td>\n",
       "      <td>Wednesday</td>\n",
       "    </tr>\n",
       "    <tr>\n",
       "      <th>284040</th>\n",
       "      <td>electric_bike</td>\n",
       "      <td>2022-03-21 16:12:44</td>\n",
       "      <td>2022-03-21 16:18:24</td>\n",
       "      <td>_MISSING_</td>\n",
       "      <td>KA1504000079</td>\n",
       "      <td>41.910000</td>\n",
       "      <td>-87.650000</td>\n",
       "      <td>41.903486</td>\n",
       "      <td>-87.643353</td>\n",
       "      <td>member</td>\n",
       "      <td>0.003935</td>\n",
       "      <td>Monday</td>\n",
       "    </tr>\n",
       "    <tr>\n",
       "      <th>284041</th>\n",
       "      <td>classic_bike</td>\n",
       "      <td>2022-03-03 18:13:40</td>\n",
       "      <td>2022-03-03 18:23:39</td>\n",
       "      <td>TA1305000030</td>\n",
       "      <td>13022</td>\n",
       "      <td>41.884576</td>\n",
       "      <td>-87.631890</td>\n",
       "      <td>41.892278</td>\n",
       "      <td>-87.612043</td>\n",
       "      <td>member</td>\n",
       "      <td>0.006933</td>\n",
       "      <td>Thursday</td>\n",
       "    </tr>\n",
       "  </tbody>\n",
       "</table>\n",
       "<p>5718098 rows × 12 columns</p>\n",
       "</div>"
      ],
      "text/plain": [
       "        rideable_type          started_at            ended_at  \\\n",
       "0        classic_bike 2021-04-12 18:25:36 2021-04-12 18:56:55   \n",
       "1         docked_bike 2021-04-27 17:27:11 2021-04-27 18:31:29   \n",
       "2         docked_bike 2021-04-03 12:42:45 2021-04-07 11:40:24   \n",
       "3        classic_bike 2021-04-17 09:17:42 2021-04-17 09:42:48   \n",
       "4         docked_bike 2021-04-03 12:42:25 2021-04-03 14:13:42   \n",
       "...               ...                 ...                 ...   \n",
       "284037    docked_bike 2022-03-13 16:31:03 2022-03-13 16:39:32   \n",
       "284038    docked_bike 2022-03-09 06:56:02 2022-03-09 07:42:14   \n",
       "284039  electric_bike 2022-03-09 15:55:26 2022-03-09 16:08:54   \n",
       "284040  electric_bike 2022-03-21 16:12:44 2022-03-21 16:18:24   \n",
       "284041   classic_bike 2022-03-03 18:13:40 2022-03-03 18:23:39   \n",
       "\n",
       "       start_station_id end_station_id  start_lat  start_lng    end_lat  \\\n",
       "0          TA1307000061          13235  41.897448 -87.628722  41.948150   \n",
       "1          KA1503000069   KA1503000069  41.805772 -87.592464  41.805772   \n",
       "2                 20121          20121  41.741487 -87.658410  41.741487   \n",
       "3          TA1305000034          13235  41.903119 -87.673935  41.948150   \n",
       "4                 20121          20121  41.741487 -87.658410  41.741487   \n",
       "...                 ...            ...        ...        ...        ...   \n",
       "284037            13042          13022  41.900960 -87.623777  41.892278   \n",
       "284038            13137   TA1309000018  41.937582 -87.644098  41.957921   \n",
       "284039        _MISSING_          15621  41.940000 -87.710000  41.961041   \n",
       "284040        _MISSING_   KA1504000079  41.910000 -87.650000  41.903486   \n",
       "284041     TA1305000030          13022  41.884576 -87.631890  41.892278   \n",
       "\n",
       "          end_lng member_casual  trip_dur   day_name  \n",
       "0      -87.663940        member  0.021748     Monday  \n",
       "1      -87.592464        casual  0.044653    Tuesday  \n",
       "2      -87.658410        casual  3.956701   Saturday  \n",
       "3      -87.663940        member  0.017431   Saturday  \n",
       "4      -87.658410        casual  0.063391   Saturday  \n",
       "...           ...           ...       ...        ...  \n",
       "284037 -87.612043        casual  0.005891     Sunday  \n",
       "284038 -87.673567        casual  0.032083  Wednesday  \n",
       "284039 -87.705866        member  0.009352  Wednesday  \n",
       "284040 -87.643353        member  0.003935     Monday  \n",
       "284041 -87.612043        member  0.006933   Thursday  \n",
       "\n",
       "[5718098 rows x 12 columns]"
      ]
     },
     "execution_count": 45,
     "metadata": {},
     "output_type": "execute_result"
    }
   ],
   "source": [
    "df['day_name']= df['started_at'].dt.day_name()\n",
    "df"
   ]
  },
  {
   "cell_type": "code",
   "execution_count": 46,
   "id": "b8795ff8",
   "metadata": {},
   "outputs": [
    {
     "data": {
      "text/plain": [
       "array(['Monday', 'Tuesday', 'Saturday', ..., 'Wednesday', 'Monday',\n",
       "       'Thursday'], dtype=object)"
      ]
     },
     "execution_count": 46,
     "metadata": {},
     "output_type": "execute_result"
    }
   ],
   "source": [
    "df.day_name.values"
   ]
  },
  {
   "cell_type": "code",
   "execution_count": 47,
   "id": "96178d61",
   "metadata": {
    "scrolled": true
   },
   "outputs": [
    {
     "data": {
      "text/plain": [
       "day_name\n",
       "Friday       0.013697\n",
       "Monday       0.013502\n",
       "Saturday     0.016989\n",
       "Sunday       0.018065\n",
       "Thursday     0.012150\n",
       "Tuesday      0.011970\n",
       "Wednesday    0.012073\n",
       "Name: trip_dur, dtype: float64"
      ]
     },
     "execution_count": 47,
     "metadata": {},
     "output_type": "execute_result"
    }
   ],
   "source": [
    "q= df.groupby('day_name')['trip_dur'].mean()\n",
    "q"
   ]
  },
  {
   "cell_type": "code",
   "execution_count": 48,
   "id": "31ea9c63",
   "metadata": {
    "scrolled": true
   },
   "outputs": [
    {
     "data": {
      "text/plain": [
       "<AxesSubplot:xlabel='day_name'>"
      ]
     },
     "execution_count": 48,
     "metadata": {},
     "output_type": "execute_result"
    },
    {
     "data": {
      "image/png": "[encoded data removed]",
      "text/plain": [
       "<Figure size 432x288 with 1 Axes>"
      ]
     },
     "metadata": {},
     "output_type": "display_data"
    }
   ],
   "source": [
    "# the general trend of the trip duration: Sat & Sun have the longer trip duration\n",
    "q[['Monday','Tuesday','Wednesday','Thursday','Friday','Saturday','Sunday']].plot.bar()"
   ]
  },
  {
   "cell_type": "code",
   "execution_count": 49,
   "id": "ce6e6028",
   "metadata": {
    "scrolled": true
   },
   "outputs": [
    {
     "data": {
      "text/plain": [
       "<AxesSubplot:xlabel='day_name'>"
      ]
     },
     "execution_count": 49,
     "metadata": {},
     "output_type": "execute_result"
    },
    {
     "data": {
      "image/png": "[encoded data removed]",
      "text/plain": [
       "<Figure size 432x288 with 1 Axes>"
      ]
     },
     "metadata": {},
     "output_type": "display_data"
    }
   ],
   "source": [
    "# member's rental trip duration- trip duration for the weekend is slightly longer than working days \n",
    "m_trip_dur= df.loc[df['member_casual']=='member'].groupby('day_name')['trip_dur'].mean()\n",
    "m_trip_dur[['Monday','Tuesday','Wednesday','Thursday','Friday','Saturday','Sunday']].plot.bar()"
   ]
  },
  {
   "cell_type": "code",
   "execution_count": 50,
   "id": "75a6ac3a",
   "metadata": {
    "scrolled": true
   },
   "outputs": [
    {
     "data": {
      "text/plain": [
       "<AxesSubplot:xlabel='day_name'>"
      ]
     },
     "execution_count": 50,
     "metadata": {},
     "output_type": "execute_result"
    },
    {
     "data": {
      "image/png": "[encoded data removed]",
      "text/plain": [
       "<Figure size 432x288 with 1 Axes>"
      ]
     },
     "metadata": {},
     "output_type": "display_data"
    }
   ],
   "source": [
    "# casual riders' rental trip duration - trip duration are longer from Friday to Sunday.  \n",
    "# The longer duration lasts till Monday, Tuesday drops back to again.  \n",
    "# The trip duration in general is longer than the members' trip duration.   \n",
    "c_trip_dur= df.loc[df['member_casual']=='casual'].groupby('day_name')['trip_dur'].mean()\n",
    "c_trip_dur[['Monday','Tuesday','Wednesday','Thursday','Friday','Saturday','Sunday']].plot.bar()"
   ]
  },
  {
   "cell_type": "code",
   "execution_count": 51,
   "id": "434938da",
   "metadata": {},
   "outputs": [
    {
     "data": {
      "text/html": [
       "<div>\n",
       "<style scoped>\n",
       "    .dataframe tbody tr th:only-of-type {\n",
       "        vertical-align: middle;\n",
       "    }\n",
       "\n",
       "    .dataframe tbody tr th {\n",
       "        vertical-align: top;\n",
       "    }\n",
       "\n",
       "    .dataframe thead th {\n",
       "        text-align: right;\n",
       "    }\n",
       "</style>\n",
       "<table border=\"1\" class=\"dataframe\">\n",
       "  <thead>\n",
       "    <tr style=\"text-align: right;\">\n",
       "      <th></th>\n",
       "      <th>trip_dur</th>\n",
       "    </tr>\n",
       "    <tr>\n",
       "      <th>member_casual</th>\n",
       "      <th></th>\n",
       "    </tr>\n",
       "  </thead>\n",
       "  <tbody>\n",
       "    <tr>\n",
       "      <th>casual</th>\n",
       "      <td>0.020645</td>\n",
       "    </tr>\n",
       "    <tr>\n",
       "      <th>member</th>\n",
       "      <td>0.009108</td>\n",
       "    </tr>\n",
       "  </tbody>\n",
       "</table>\n",
       "</div>"
      ],
      "text/plain": [
       "               trip_dur\n",
       "member_casual          \n",
       "casual         0.020645\n",
       "member         0.009108"
      ]
     },
     "execution_count": 51,
     "metadata": {},
     "output_type": "execute_result"
    }
   ],
   "source": [
    "# Mon_Sun average trip_dur comparision between casual v. member. \n",
    "df.groupby('member_casual')[['trip_dur']].mean()"
   ]
  },
  {
   "cell_type": "markdown",
   "id": "5e6ee69d",
   "metadata": {},
   "source": [
    "Summary: \n",
    "\n",
    "1. All the users have a similar trend in trip duration: The duration is longer at the weekend. Tuesday- Thursday are the shortest. \n",
    "\n",
    "2. Casual riders' average trip duration is around 2 times of the member's. "
   ]
  },
  {
   "cell_type": "code",
   "execution_count": 52,
   "id": "63bcbb87",
   "metadata": {
    "scrolled": true
   },
   "outputs": [
    {
     "data": {
      "text/plain": [
       "<AxesSubplot:xlabel='day_name'>"
      ]
     },
     "execution_count": 52,
     "metadata": {},
     "output_type": "execute_result"
    },
    {
     "data": {
      "image/png": "[encoded data removed]",
      "text/plain": [
       "<Figure size 432x288 with 1 Axes>"
      ]
     },
     "metadata": {},
     "output_type": "display_data"
    }
   ],
   "source": [
    "# member's rental trips number - Sunday has the lowest trips  \n",
    "m_trip_count= df.loc[df['member_casual']=='member'].groupby('day_name')['trip_dur'].count()\n",
    "m_trip_count[['Monday','Tuesday','Wednesday','Thursday','Friday','Saturday','Sunday']].plot.bar()"
   ]
  },
  {
   "cell_type": "code",
   "execution_count": 53,
   "id": "960b62f0",
   "metadata": {
    "scrolled": true
   },
   "outputs": [
    {
     "data": {
      "text/plain": [
       "<AxesSubplot:xlabel='day_name'>"
      ]
     },
     "execution_count": 53,
     "metadata": {},
     "output_type": "execute_result"
    },
    {
     "data": {
      "image/png": "[encoded data removed]",
      "text/plain": [
       "<Figure size 432x288 with 1 Axes>"
      ]
     },
     "metadata": {},
     "output_type": "display_data"
    }
   ],
   "source": [
    "# casual's rental trip number - trip number increases peaks on Sat and Sun. Monday - Thurday are significantly lower.b  \n",
    "c_trip_count= df.loc[df['member_casual']=='casual'].groupby('day_name')['trip_dur'].count()\n",
    "c_trip_count[['Monday','Tuesday','Wednesday','Thursday','Friday','Saturday','Sunday']].plot.bar()"
   ]
  },
  {
   "cell_type": "markdown",
   "id": "8144a966",
   "metadata": {},
   "source": [
    "Summary: \n",
    "\n",
    "The casual riders and members' demand ranges differently in days. Casuals riders' demand at the weekend are significantly higher than working days, while members have less demand at the weekend. "
   ]
  },
  {
   "cell_type": "markdown",
   "id": "62ec6ea3",
   "metadata": {},
   "source": [
    "# Recommendation 4: \n",
    "The analysis shows that casual users are more active (by 40% roughly) at the weekend.\n",
    "Increasing the marketing campaingn at the weekend, can increase the campaign exporsure to casual users to increase the potential converation rate to memebers. "
   ]
  },
  {
   "cell_type": "markdown",
   "id": "d0ef167c",
   "metadata": {},
   "source": [
    "Put the trip duration for both member and casual users together for analysis, use seaborn to visualize it."
   ]
  },
  {
   "cell_type": "code",
   "execution_count": 54,
   "id": "53e217c6",
   "metadata": {
    "scrolled": true
   },
   "outputs": [
    {
     "data": {
      "text/html": [
       "<div>\n",
       "<style scoped>\n",
       "    .dataframe tbody tr th:only-of-type {\n",
       "        vertical-align: middle;\n",
       "    }\n",
       "\n",
       "    .dataframe tbody tr th {\n",
       "        vertical-align: top;\n",
       "    }\n",
       "\n",
       "    .dataframe thead th {\n",
       "        text-align: right;\n",
       "    }\n",
       "</style>\n",
       "<table border=\"1\" class=\"dataframe\">\n",
       "  <thead>\n",
       "    <tr style=\"text-align: right;\">\n",
       "      <th></th>\n",
       "      <th>day_name</th>\n",
       "      <th>trip_dur</th>\n",
       "      <th>member_casual</th>\n",
       "    </tr>\n",
       "  </thead>\n",
       "  <tbody>\n",
       "    <tr>\n",
       "      <th>0</th>\n",
       "      <td>Monday</td>\n",
       "      <td>0.021748</td>\n",
       "      <td>member</td>\n",
       "    </tr>\n",
       "    <tr>\n",
       "      <th>1</th>\n",
       "      <td>Tuesday</td>\n",
       "      <td>0.044653</td>\n",
       "      <td>casual</td>\n",
       "    </tr>\n",
       "    <tr>\n",
       "      <th>2</th>\n",
       "      <td>Saturday</td>\n",
       "      <td>3.956701</td>\n",
       "      <td>casual</td>\n",
       "    </tr>\n",
       "    <tr>\n",
       "      <th>3</th>\n",
       "      <td>Saturday</td>\n",
       "      <td>0.017431</td>\n",
       "      <td>member</td>\n",
       "    </tr>\n",
       "    <tr>\n",
       "      <th>4</th>\n",
       "      <td>Saturday</td>\n",
       "      <td>0.063391</td>\n",
       "      <td>casual</td>\n",
       "    </tr>\n",
       "    <tr>\n",
       "      <th>...</th>\n",
       "      <td>...</td>\n",
       "      <td>...</td>\n",
       "      <td>...</td>\n",
       "    </tr>\n",
       "    <tr>\n",
       "      <th>284037</th>\n",
       "      <td>Sunday</td>\n",
       "      <td>0.005891</td>\n",
       "      <td>casual</td>\n",
       "    </tr>\n",
       "    <tr>\n",
       "      <th>284038</th>\n",
       "      <td>Wednesday</td>\n",
       "      <td>0.032083</td>\n",
       "      <td>casual</td>\n",
       "    </tr>\n",
       "    <tr>\n",
       "      <th>284039</th>\n",
       "      <td>Wednesday</td>\n",
       "      <td>0.009352</td>\n",
       "      <td>member</td>\n",
       "    </tr>\n",
       "    <tr>\n",
       "      <th>284040</th>\n",
       "      <td>Monday</td>\n",
       "      <td>0.003935</td>\n",
       "      <td>member</td>\n",
       "    </tr>\n",
       "    <tr>\n",
       "      <th>284041</th>\n",
       "      <td>Thursday</td>\n",
       "      <td>0.006933</td>\n",
       "      <td>member</td>\n",
       "    </tr>\n",
       "  </tbody>\n",
       "</table>\n",
       "<p>5718098 rows × 3 columns</p>\n",
       "</div>"
      ],
      "text/plain": [
       "         day_name  trip_dur member_casual\n",
       "0          Monday  0.021748        member\n",
       "1         Tuesday  0.044653        casual\n",
       "2        Saturday  3.956701        casual\n",
       "3        Saturday  0.017431        member\n",
       "4        Saturday  0.063391        casual\n",
       "...           ...       ...           ...\n",
       "284037     Sunday  0.005891        casual\n",
       "284038  Wednesday  0.032083        casual\n",
       "284039  Wednesday  0.009352        member\n",
       "284040     Monday  0.003935        member\n",
       "284041   Thursday  0.006933        member\n",
       "\n",
       "[5718098 rows x 3 columns]"
      ]
     },
     "execution_count": 54,
     "metadata": {},
     "output_type": "execute_result"
    }
   ],
   "source": [
    "# Mon_Sun trip_count comparision casual v. member\n",
    "df2_trip_count=df[['day_name','trip_dur','member_casual']]\n",
    "df2_trip_count"
   ]
  },
  {
   "cell_type": "code",
   "execution_count": 55,
   "id": "5e4b9f61",
   "metadata": {},
   "outputs": [],
   "source": [
    "def day_sort(series):\n",
    "\n",
    "    return series.apply(lambda x: {'Monday':1,'Tuesday':2,'Wednesday':3,'Thursday':4,'Friday':5,'Saturday':6,'Sunday':7}[x])"
   ]
  },
  {
   "cell_type": "code",
   "execution_count": 56,
   "id": "25b8bc66",
   "metadata": {
    "scrolled": false
   },
   "outputs": [
    {
     "data": {
      "text/plain": [
       "<bound method DataFrame.reset_index of           trip_dur member_casual\n",
       "day_name                        \n",
       "Monday    0.021748        member\n",
       "Monday    0.004491        casual\n",
       "Monday    0.005255        member\n",
       "Monday    0.014838        member\n",
       "Monday    0.032269        casual\n",
       "...            ...           ...\n",
       "Sunday    0.011042        member\n",
       "Sunday    0.007199        casual\n",
       "Sunday    0.006574        casual\n",
       "Sunday    0.024491        casual\n",
       "Sunday    0.026435        casual\n",
       "\n",
       "[5718098 rows x 2 columns]>"
      ]
     },
     "execution_count": 56,
     "metadata": {},
     "output_type": "execute_result"
    }
   ],
   "source": [
    "df2_trip_count_sort= df2_trip_count.sort_values(by='day_name', key=day_sort).set_index('day_name').reset_index\n",
    "df2_trip_count_sort"
   ]
  },
  {
   "cell_type": "code",
   "execution_count": 57,
   "id": "e581eb12",
   "metadata": {
    "scrolled": false
   },
   "outputs": [
    {
     "data": {
      "text/plain": [
       "<seaborn.axisgrid.FacetGrid at 0x252415697b0>"
      ]
     },
     "execution_count": 57,
     "metadata": {},
     "output_type": "execute_result"
    },
    {
     "data": {
      "image/png": "[encoded data removed]",
      "text/plain": [
       "<Figure size 1174.17x360 with 1 Axes>"
      ]
     },
     "metadata": {},
     "output_type": "display_data"
    }
   ],
   "source": [
    "df2=df[['day_name','trip_dur','member_casual']]\n",
    "df2_sort= df2.sort_values(by='day_name',key=lambda x: x.map({'Monday':1,'Tuesday':2,'Wednesday':3,\n",
    "                                                             'Thursday':4,'Friday':5,'Saturday':6,'Sunday':7}))\n",
    "sns.catplot(data=df2_sort, x='day_name', y='trip_dur', kind='bar', hue='member_casual',aspect=3)"
   ]
  },
  {
   "cell_type": "markdown",
   "id": "5902b5a1",
   "metadata": {},
   "source": [
    "Seaborn provides a clear visual: \n",
    "\n",
    "The trip duration trend for members are consistenet with slight increase for the weekend. For casuals, duration is higher for the weekend."
   ]
  },
  {
   "cell_type": "code",
   "execution_count": 58,
   "id": "79bb6cf7",
   "metadata": {},
   "outputs": [
    {
     "data": {
      "text/html": [
       "<div>\n",
       "<style scoped>\n",
       "    .dataframe tbody tr th:only-of-type {\n",
       "        vertical-align: middle;\n",
       "    }\n",
       "\n",
       "    .dataframe tbody tr th {\n",
       "        vertical-align: top;\n",
       "    }\n",
       "\n",
       "    .dataframe thead th {\n",
       "        text-align: right;\n",
       "    }\n",
       "</style>\n",
       "<table border=\"1\" class=\"dataframe\">\n",
       "  <thead>\n",
       "    <tr style=\"text-align: right;\">\n",
       "      <th></th>\n",
       "      <th>day_name</th>\n",
       "      <th>trip_dur</th>\n",
       "      <th>member_casual</th>\n",
       "    </tr>\n",
       "  </thead>\n",
       "  <tbody>\n",
       "    <tr>\n",
       "      <th>0</th>\n",
       "      <td>Monday</td>\n",
       "      <td>0.021748</td>\n",
       "      <td>member</td>\n",
       "    </tr>\n",
       "    <tr>\n",
       "      <th>218074</th>\n",
       "      <td>Monday</td>\n",
       "      <td>0.004491</td>\n",
       "      <td>casual</td>\n",
       "    </tr>\n",
       "    <tr>\n",
       "      <th>40151</th>\n",
       "      <td>Monday</td>\n",
       "      <td>0.005255</td>\n",
       "      <td>member</td>\n",
       "    </tr>\n",
       "    <tr>\n",
       "      <th>22013</th>\n",
       "      <td>Monday</td>\n",
       "      <td>0.014838</td>\n",
       "      <td>member</td>\n",
       "    </tr>\n",
       "    <tr>\n",
       "      <th>40155</th>\n",
       "      <td>Monday</td>\n",
       "      <td>0.032269</td>\n",
       "      <td>casual</td>\n",
       "    </tr>\n",
       "    <tr>\n",
       "      <th>...</th>\n",
       "      <td>...</td>\n",
       "      <td>...</td>\n",
       "      <td>...</td>\n",
       "    </tr>\n",
       "    <tr>\n",
       "      <th>489347</th>\n",
       "      <td>Sunday</td>\n",
       "      <td>0.011042</td>\n",
       "      <td>member</td>\n",
       "    </tr>\n",
       "    <tr>\n",
       "      <th>489350</th>\n",
       "      <td>Sunday</td>\n",
       "      <td>0.007199</td>\n",
       "      <td>casual</td>\n",
       "    </tr>\n",
       "    <tr>\n",
       "      <th>73606</th>\n",
       "      <td>Sunday</td>\n",
       "      <td>0.006574</td>\n",
       "      <td>casual</td>\n",
       "    </tr>\n",
       "    <tr>\n",
       "      <th>298266</th>\n",
       "      <td>Sunday</td>\n",
       "      <td>0.024491</td>\n",
       "      <td>casual</td>\n",
       "    </tr>\n",
       "    <tr>\n",
       "      <th>340675</th>\n",
       "      <td>Sunday</td>\n",
       "      <td>0.026435</td>\n",
       "      <td>casual</td>\n",
       "    </tr>\n",
       "  </tbody>\n",
       "</table>\n",
       "<p>5718098 rows × 3 columns</p>\n",
       "</div>"
      ],
      "text/plain": [
       "       day_name  trip_dur member_casual\n",
       "0        Monday  0.021748        member\n",
       "218074   Monday  0.004491        casual\n",
       "40151    Monday  0.005255        member\n",
       "22013    Monday  0.014838        member\n",
       "40155    Monday  0.032269        casual\n",
       "...         ...       ...           ...\n",
       "489347   Sunday  0.011042        member\n",
       "489350   Sunday  0.007199        casual\n",
       "73606    Sunday  0.006574        casual\n",
       "298266   Sunday  0.024491        casual\n",
       "340675   Sunday  0.026435        casual\n",
       "\n",
       "[5718098 rows x 3 columns]"
      ]
     },
     "execution_count": 58,
     "metadata": {},
     "output_type": "execute_result"
    }
   ],
   "source": [
    "df2_sort"
   ]
  },
  {
   "cell_type": "code",
   "execution_count": 59,
   "id": "ab37f415",
   "metadata": {},
   "outputs": [
    {
     "data": {
      "text/plain": [
       "<seaborn.axisgrid.FacetGrid at 0x252415c93c0>"
      ]
     },
     "execution_count": 59,
     "metadata": {},
     "output_type": "execute_result"
    },
    {
     "data": {
      "image/png": "[encoded data removed]",
      "text/plain": [
       "<Figure size 720x360 with 1 Axes>"
      ]
     },
     "metadata": {},
     "output_type": "display_data"
    }
   ],
   "source": [
    "df2.sort_index(key=lambda x: x.map({'Monday':1,'Tuesday':2,'Wednesday':3,'Thursday':4,'Friday':5,'Saturday':6,'Sunday':7}))\n",
    "sns.catplot(data=df2, x='day_name', y='trip_dur', kind='bar',aspect=2)"
   ]
  },
  {
   "cell_type": "code",
   "execution_count": 60,
   "id": "6d12d195",
   "metadata": {},
   "outputs": [
    {
     "data": {
      "text/html": [
       "<div>\n",
       "<style scoped>\n",
       "    .dataframe tbody tr th:only-of-type {\n",
       "        vertical-align: middle;\n",
       "    }\n",
       "\n",
       "    .dataframe tbody tr th {\n",
       "        vertical-align: top;\n",
       "    }\n",
       "\n",
       "    .dataframe thead th {\n",
       "        text-align: right;\n",
       "    }\n",
       "</style>\n",
       "<table border=\"1\" class=\"dataframe\">\n",
       "  <thead>\n",
       "    <tr style=\"text-align: right;\">\n",
       "      <th></th>\n",
       "      <th>day_name</th>\n",
       "      <th>trip_dur</th>\n",
       "    </tr>\n",
       "  </thead>\n",
       "  <tbody>\n",
       "    <tr>\n",
       "      <th>0</th>\n",
       "      <td>Monday</td>\n",
       "      <td>0.021748</td>\n",
       "    </tr>\n",
       "    <tr>\n",
       "      <th>1</th>\n",
       "      <td>Tuesday</td>\n",
       "      <td>0.044653</td>\n",
       "    </tr>\n",
       "    <tr>\n",
       "      <th>2</th>\n",
       "      <td>Saturday</td>\n",
       "      <td>3.956701</td>\n",
       "    </tr>\n",
       "    <tr>\n",
       "      <th>3</th>\n",
       "      <td>Saturday</td>\n",
       "      <td>0.017431</td>\n",
       "    </tr>\n",
       "    <tr>\n",
       "      <th>4</th>\n",
       "      <td>Saturday</td>\n",
       "      <td>0.063391</td>\n",
       "    </tr>\n",
       "    <tr>\n",
       "      <th>...</th>\n",
       "      <td>...</td>\n",
       "      <td>...</td>\n",
       "    </tr>\n",
       "    <tr>\n",
       "      <th>284037</th>\n",
       "      <td>Sunday</td>\n",
       "      <td>0.005891</td>\n",
       "    </tr>\n",
       "    <tr>\n",
       "      <th>284038</th>\n",
       "      <td>Wednesday</td>\n",
       "      <td>0.032083</td>\n",
       "    </tr>\n",
       "    <tr>\n",
       "      <th>284039</th>\n",
       "      <td>Wednesday</td>\n",
       "      <td>0.009352</td>\n",
       "    </tr>\n",
       "    <tr>\n",
       "      <th>284040</th>\n",
       "      <td>Monday</td>\n",
       "      <td>0.003935</td>\n",
       "    </tr>\n",
       "    <tr>\n",
       "      <th>284041</th>\n",
       "      <td>Thursday</td>\n",
       "      <td>0.006933</td>\n",
       "    </tr>\n",
       "  </tbody>\n",
       "</table>\n",
       "<p>5718098 rows × 2 columns</p>\n",
       "</div>"
      ],
      "text/plain": [
       "         day_name  trip_dur\n",
       "0          Monday  0.021748\n",
       "1         Tuesday  0.044653\n",
       "2        Saturday  3.956701\n",
       "3        Saturday  0.017431\n",
       "4        Saturday  0.063391\n",
       "...           ...       ...\n",
       "284037     Sunday  0.005891\n",
       "284038  Wednesday  0.032083\n",
       "284039  Wednesday  0.009352\n",
       "284040     Monday  0.003935\n",
       "284041   Thursday  0.006933\n",
       "\n",
       "[5718098 rows x 2 columns]"
      ]
     },
     "execution_count": 60,
     "metadata": {},
     "output_type": "execute_result"
    }
   ],
   "source": [
    "df_day_name_trip_count=df[['day_name','trip_dur']]\n",
    "df_day_name_trip_count"
   ]
  },
  {
   "cell_type": "code",
   "execution_count": 61,
   "id": "e3367862",
   "metadata": {},
   "outputs": [
    {
     "data": {
      "text/plain": [
       "<AxesSubplot:xlabel='day_name'>"
      ]
     },
     "execution_count": 61,
     "metadata": {},
     "output_type": "execute_result"
    },
    {
     "data": {
      "image/png": "[encoded data removed]",
      "text/plain": [
       "<Figure size 432x288 with 1 Axes>"
      ]
     },
     "metadata": {},
     "output_type": "display_data"
    }
   ],
   "source": [
    "# casual's rental trip number - day of the week trend\n",
    "m= df.loc[df['member_casual']=='casual'].groupby('day_name')['trip_dur'].count()\n",
    "m[['Monday','Tuesday','Wednesday','Thursday','Friday','Saturday','Sunday']].plot.bar()"
   ]
  },
  {
   "cell_type": "markdown",
   "id": "37fff9b3",
   "metadata": {},
   "source": [
    "Use key & lambda to arrange the plot by day of the week"
   ]
  },
  {
   "cell_type": "code",
   "execution_count": 62,
   "id": "5ec460f4",
   "metadata": {
    "scrolled": true
   },
   "outputs": [
    {
     "data": {
      "text/html": [
       "<div>\n",
       "<style scoped>\n",
       "    .dataframe tbody tr th:only-of-type {\n",
       "        vertical-align: middle;\n",
       "    }\n",
       "\n",
       "    .dataframe tbody tr th {\n",
       "        vertical-align: top;\n",
       "    }\n",
       "\n",
       "    .dataframe thead th {\n",
       "        text-align: right;\n",
       "    }\n",
       "</style>\n",
       "<table border=\"1\" class=\"dataframe\">\n",
       "  <thead>\n",
       "    <tr style=\"text-align: right;\">\n",
       "      <th></th>\n",
       "      <th>rideable_type</th>\n",
       "      <th>started_at</th>\n",
       "      <th>ended_at</th>\n",
       "      <th>start_station_id</th>\n",
       "      <th>end_station_id</th>\n",
       "      <th>start_lat</th>\n",
       "      <th>start_lng</th>\n",
       "      <th>end_lat</th>\n",
       "      <th>end_lng</th>\n",
       "      <th>member_casual</th>\n",
       "      <th>trip_dur</th>\n",
       "      <th>day_name</th>\n",
       "    </tr>\n",
       "  </thead>\n",
       "  <tbody>\n",
       "    <tr>\n",
       "      <th>0</th>\n",
       "      <td>classic_bike</td>\n",
       "      <td>2021-04-12 18:25:36</td>\n",
       "      <td>2021-04-12 18:56:55</td>\n",
       "      <td>TA1307000061</td>\n",
       "      <td>13235</td>\n",
       "      <td>41.897448</td>\n",
       "      <td>-87.628722</td>\n",
       "      <td>41.948150</td>\n",
       "      <td>-87.663940</td>\n",
       "      <td>member</td>\n",
       "      <td>0.021748</td>\n",
       "      <td>Monday</td>\n",
       "    </tr>\n",
       "    <tr>\n",
       "      <th>218074</th>\n",
       "      <td>classic_bike</td>\n",
       "      <td>2021-11-01 17:23:11</td>\n",
       "      <td>2021-11-01 17:29:39</td>\n",
       "      <td>KA1504000162</td>\n",
       "      <td>KA1504000175</td>\n",
       "      <td>42.009011</td>\n",
       "      <td>-87.674112</td>\n",
       "      <td>42.007972</td>\n",
       "      <td>-87.665502</td>\n",
       "      <td>casual</td>\n",
       "      <td>0.004491</td>\n",
       "      <td>Monday</td>\n",
       "    </tr>\n",
       "    <tr>\n",
       "      <th>40151</th>\n",
       "      <td>classic_bike</td>\n",
       "      <td>2021-09-13 06:23:10</td>\n",
       "      <td>2021-09-13 06:30:44</td>\n",
       "      <td>13158</td>\n",
       "      <td>KA1503000043</td>\n",
       "      <td>41.877642</td>\n",
       "      <td>-87.649618</td>\n",
       "      <td>41.889177</td>\n",
       "      <td>-87.638506</td>\n",
       "      <td>member</td>\n",
       "      <td>0.005255</td>\n",
       "      <td>Monday</td>\n",
       "    </tr>\n",
       "    <tr>\n",
       "      <th>22013</th>\n",
       "      <td>classic_bike</td>\n",
       "      <td>2021-06-14 17:47:23</td>\n",
       "      <td>2021-06-14 18:08:45</td>\n",
       "      <td>13016</td>\n",
       "      <td>TA1307000041</td>\n",
       "      <td>41.894345</td>\n",
       "      <td>-87.622798</td>\n",
       "      <td>41.936688</td>\n",
       "      <td>-87.636829</td>\n",
       "      <td>member</td>\n",
       "      <td>0.014838</td>\n",
       "      <td>Monday</td>\n",
       "    </tr>\n",
       "    <tr>\n",
       "      <th>40155</th>\n",
       "      <td>electric_bike</td>\n",
       "      <td>2021-09-06 17:40:31</td>\n",
       "      <td>2021-09-06 18:26:59</td>\n",
       "      <td>TA1308000047</td>\n",
       "      <td>_MISSING_</td>\n",
       "      <td>41.957111</td>\n",
       "      <td>-87.664213</td>\n",
       "      <td>41.930000</td>\n",
       "      <td>-87.710000</td>\n",
       "      <td>casual</td>\n",
       "      <td>0.032269</td>\n",
       "      <td>Monday</td>\n",
       "    </tr>\n",
       "    <tr>\n",
       "      <th>...</th>\n",
       "      <td>...</td>\n",
       "      <td>...</td>\n",
       "      <td>...</td>\n",
       "      <td>...</td>\n",
       "      <td>...</td>\n",
       "      <td>...</td>\n",
       "      <td>...</td>\n",
       "      <td>...</td>\n",
       "      <td>...</td>\n",
       "      <td>...</td>\n",
       "      <td>...</td>\n",
       "      <td>...</td>\n",
       "    </tr>\n",
       "    <tr>\n",
       "      <th>489347</th>\n",
       "      <td>classic_bike</td>\n",
       "      <td>2021-07-18 02:02:03</td>\n",
       "      <td>2021-07-18 02:17:57</td>\n",
       "      <td>TA1308000019</td>\n",
       "      <td>KA1504000143</td>\n",
       "      <td>41.939743</td>\n",
       "      <td>-87.658865</td>\n",
       "      <td>41.946655</td>\n",
       "      <td>-87.683359</td>\n",
       "      <td>member</td>\n",
       "      <td>0.011042</td>\n",
       "      <td>Sunday</td>\n",
       "    </tr>\n",
       "    <tr>\n",
       "      <th>489350</th>\n",
       "      <td>classic_bike</td>\n",
       "      <td>2021-07-18 10:42:25</td>\n",
       "      <td>2021-07-18 10:52:47</td>\n",
       "      <td>KA1504000076</td>\n",
       "      <td>KA1503000046</td>\n",
       "      <td>41.794301</td>\n",
       "      <td>-87.601450</td>\n",
       "      <td>41.780406</td>\n",
       "      <td>-87.591416</td>\n",
       "      <td>casual</td>\n",
       "      <td>0.007199</td>\n",
       "      <td>Sunday</td>\n",
       "    </tr>\n",
       "    <tr>\n",
       "      <th>73606</th>\n",
       "      <td>classic_bike</td>\n",
       "      <td>2021-10-03 18:48:52</td>\n",
       "      <td>2021-10-03 18:58:20</td>\n",
       "      <td>13431</td>\n",
       "      <td>SL-005</td>\n",
       "      <td>41.866095</td>\n",
       "      <td>-87.607267</td>\n",
       "      <td>41.867888</td>\n",
       "      <td>-87.623041</td>\n",
       "      <td>casual</td>\n",
       "      <td>0.006574</td>\n",
       "      <td>Sunday</td>\n",
       "    </tr>\n",
       "    <tr>\n",
       "      <th>298266</th>\n",
       "      <td>classic_bike</td>\n",
       "      <td>2021-06-13 17:59:28</td>\n",
       "      <td>2021-06-13 18:34:44</td>\n",
       "      <td>13045</td>\n",
       "      <td>13276</td>\n",
       "      <td>41.893992</td>\n",
       "      <td>-87.629318</td>\n",
       "      <td>41.931320</td>\n",
       "      <td>-87.638742</td>\n",
       "      <td>casual</td>\n",
       "      <td>0.024491</td>\n",
       "      <td>Sunday</td>\n",
       "    </tr>\n",
       "    <tr>\n",
       "      <th>340675</th>\n",
       "      <td>docked_bike</td>\n",
       "      <td>2021-10-31 13:52:54</td>\n",
       "      <td>2021-10-31 14:30:58</td>\n",
       "      <td>15544</td>\n",
       "      <td>TA1305000030</td>\n",
       "      <td>41.867226</td>\n",
       "      <td>-87.615355</td>\n",
       "      <td>41.884576</td>\n",
       "      <td>-87.631890</td>\n",
       "      <td>casual</td>\n",
       "      <td>0.026435</td>\n",
       "      <td>Sunday</td>\n",
       "    </tr>\n",
       "  </tbody>\n",
       "</table>\n",
       "<p>5718098 rows × 12 columns</p>\n",
       "</div>"
      ],
      "text/plain": [
       "        rideable_type          started_at            ended_at  \\\n",
       "0        classic_bike 2021-04-12 18:25:36 2021-04-12 18:56:55   \n",
       "218074   classic_bike 2021-11-01 17:23:11 2021-11-01 17:29:39   \n",
       "40151    classic_bike 2021-09-13 06:23:10 2021-09-13 06:30:44   \n",
       "22013    classic_bike 2021-06-14 17:47:23 2021-06-14 18:08:45   \n",
       "40155   electric_bike 2021-09-06 17:40:31 2021-09-06 18:26:59   \n",
       "...               ...                 ...                 ...   \n",
       "489347   classic_bike 2021-07-18 02:02:03 2021-07-18 02:17:57   \n",
       "489350   classic_bike 2021-07-18 10:42:25 2021-07-18 10:52:47   \n",
       "73606    classic_bike 2021-10-03 18:48:52 2021-10-03 18:58:20   \n",
       "298266   classic_bike 2021-06-13 17:59:28 2021-06-13 18:34:44   \n",
       "340675    docked_bike 2021-10-31 13:52:54 2021-10-31 14:30:58   \n",
       "\n",
       "       start_station_id end_station_id  start_lat  start_lng    end_lat  \\\n",
       "0          TA1307000061          13235  41.897448 -87.628722  41.948150   \n",
       "218074     KA1504000162   KA1504000175  42.009011 -87.674112  42.007972   \n",
       "40151             13158   KA1503000043  41.877642 -87.649618  41.889177   \n",
       "22013             13016   TA1307000041  41.894345 -87.622798  41.936688   \n",
       "40155      TA1308000047      _MISSING_  41.957111 -87.664213  41.930000   \n",
       "...                 ...            ...        ...        ...        ...   \n",
       "489347     TA1308000019   KA1504000143  41.939743 -87.658865  41.946655   \n",
       "489350     KA1504000076   KA1503000046  41.794301 -87.601450  41.780406   \n",
       "73606             13431         SL-005  41.866095 -87.607267  41.867888   \n",
       "298266            13045          13276  41.893992 -87.629318  41.931320   \n",
       "340675            15544   TA1305000030  41.867226 -87.615355  41.884576   \n",
       "\n",
       "          end_lng member_casual  trip_dur day_name  \n",
       "0      -87.663940        member  0.021748   Monday  \n",
       "218074 -87.665502        casual  0.004491   Monday  \n",
       "40151  -87.638506        member  0.005255   Monday  \n",
       "22013  -87.636829        member  0.014838   Monday  \n",
       "40155  -87.710000        casual  0.032269   Monday  \n",
       "...           ...           ...       ...      ...  \n",
       "489347 -87.683359        member  0.011042   Sunday  \n",
       "489350 -87.591416        casual  0.007199   Sunday  \n",
       "73606  -87.623041        casual  0.006574   Sunday  \n",
       "298266 -87.638742        casual  0.024491   Sunday  \n",
       "340675 -87.631890        casual  0.026435   Sunday  \n",
       "\n",
       "[5718098 rows x 12 columns]"
      ]
     },
     "execution_count": 62,
     "metadata": {},
     "output_type": "execute_result"
    }
   ],
   "source": [
    "df.sort_values(by=['day_name'], key=lambda x: x.map({'Monday':'1','Tuesday':'2','Wednesday':'3','Thursday':'4','Friday':'5','Saturday':'6','Sunday':'7'}))"
   ]
  },
  {
   "cell_type": "code",
   "execution_count": 63,
   "id": "35d6b4d8",
   "metadata": {
    "scrolled": false
   },
   "outputs": [
    {
     "data": {
      "text/plain": [
       "<AxesSubplot:xlabel='day_name'>"
      ]
     },
     "execution_count": 63,
     "metadata": {},
     "output_type": "execute_result"
    },
    {
     "data": {
      "image/png": "[encoded data removed]",
      "text/plain": [
       "<Figure size 432x288 with 1 Axes>"
      ]
     },
     "metadata": {},
     "output_type": "display_data"
    }
   ],
   "source": [
    "# sort_values/ Index,series no need to select the column, it is only one column\n",
    "df.groupby('day_name')['trip_dur'].mean().sort_index(key=lambda x: x.map({'Monday':1,'Tuesday':2,'Wednesday':3,'Thursday':4,'Friday':5,'Saturday':6,'Sunday':7})).plot.bar()"
   ]
  },
  {
   "cell_type": "code",
   "execution_count": 64,
   "id": "5c7d442c",
   "metadata": {
    "scrolled": true
   },
   "outputs": [
    {
     "data": {
      "text/plain": [
       "<AxesSubplot:xlabel='day_name'>"
      ]
     },
     "execution_count": 64,
     "metadata": {},
     "output_type": "execute_result"
    },
    {
     "data": {
      "image/png": "[encoded data removed]",
      "text/plain": [
       "<Figure size 432x288 with 1 Axes>"
      ]
     },
     "metadata": {},
     "output_type": "display_data"
    }
   ],
   "source": [
    "# total trip # by 'day_name'. Sort_values (used for df) v. sort_index(used for seriers) \n",
    "df.groupby('day_name')['trip_dur'].count().sort_index(key=lambda x: x.map({'Monday':1,'Tuesday':2,'Wednesday':3,'Thursday':4,'Friday':5,'Saturday':6,'Sunday':7})).plot.bar()"
   ]
  },
  {
   "cell_type": "markdown",
   "id": "120be7ca",
   "metadata": {},
   "source": [
    "The three key recommendations for the marketing campaign: \n",
    "\n",
    "1. From the location perspective: \n",
    "The marketing campaign(i.e. rolling ads on the stations) can prioritize the most popular 7 locations, where the campaign will target more users, and more targeted customers.\n",
    "\n",
    "2. From the target customers perspective: \n",
    "Provide more marketing campaign visibility (i.e. billboard footage, rolling ads frequency) at docked bike stations. The users are 100% targeted customers.\n",
    "Digital advertisement and email campaign can be used to this group of users too. \n",
    "\n",
    "3. From the time perspective:\n",
    "  \n",
    "    a. Jun-Oct are the peak seasons. I recommend to increase budget spent in these months. The marketing campaingn will be viewed by more targeted customers (casual users). Digital advertisement and email campaign frequency can be increased.\n",
    "  \n",
    "    b. The casual users are more active (by 40% roughly) at the weekend. Increasing the marketing campaingn at the weekend, can increase the campaign exporsure to casual riders to increase the potential convertion rate from casual riders to annual memebers.\n",
    "\n",
    "Findings: \n",
    "\n",
    "1. Both types of users have a similar trend in trip duration: The duration is longer at the weekend. Tuesday- Thursday are the shortest. \n",
    "2. Casual riders' average trip duration is around 2 times of the member's. \n",
    "3. Members do not rent bikes for over 1.5 days. The long duration trips are by casual riders.\n",
    "4. Usages throughout the week differs between casual rider and members. Casuals riders' usage at the weekend are significantly higher than working days, while members have less demand at the weekend. \n",
    "5. All the docked_bike users are casual riders.\n",
    "6. Casual users are more active (by 40% roughly) at the weekend.\n",
    "7. The most used start and end stations perfectly overlap. The top 7 stations are: 13022, LF-005,13042, 13000,TA1308000050, 13008, TA1308000050.  "
   ]
  }
 ],
 "metadata": {
  "kernelspec": {
   "display_name": "Python 3 (ipykernel)",
   "language": "python",
   "name": "python3"
  },
  "language_info": {
   "codemirror_mode": {
    "name": "ipython",
    "version": 3
   },
   "file_extension": ".py",
   "mimetype": "text/x-python",
   "name": "python",
   "nbconvert_exporter": "python",
   "pygments_lexer": "ipython3",
   "version": "3.10.4"
  }
 },
 "nbformat": 4,
 "nbformat_minor": 5
}
